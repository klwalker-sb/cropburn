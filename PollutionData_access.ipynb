{
 "cells": [
  {
   "cell_type": "markdown",
   "id": "4463993e",
   "metadata": {},
   "source": [
    "## To scrape pollution data from India govt dashboard"
   ]
  },
  {
   "cell_type": "markdown",
   "id": "d2d06c0b",
   "metadata": {},
   "source": [
    "from https://www.listendata.com/2022/07/pollution-in-india-real-time-aqi-data.html"
   ]
  },
  {
   "cell_type": "code",
   "execution_count": 19,
   "id": "4b8d457a",
   "metadata": {},
   "outputs": [],
   "source": [
    "import requests\n",
    "import json\n",
    "import pandas as pd\n",
    "import re\n",
    "import datetime\n",
    "import time\n",
    "import base64\n",
    "from itertools import product"
   ]
  },
  {
   "cell_type": "code",
   "execution_count": 20,
   "id": "ba96117d",
   "metadata": {},
   "outputs": [],
   "source": [
    "# The following api should work to test (can only get 10 requests at a time with this)\n",
    "api = '579b464db66ec23bdd000001cdd3946e44ce4aad7209ff7b23ac571b'\n",
    "\n",
    "# for full data access, create an account with https://data.gov.in/\n",
    "# then in dashboard, go to `my account` and create api"
   ]
  },
  {
   "cell_type": "code",
   "execution_count": 25,
   "id": "a45d7664",
   "metadata": {},
   "outputs": [],
   "source": [
    "# from https://www.listendata.com/2022/07/pollution-in-india-real-time-aqi-data.html\n",
    "stationsData = pd.read_csv('./data/PM25/stations.txt')\n",
    "\n",
    "def getData(api, filters):\n",
    "    url1 = \"https://api.data.gov.in/resource/3b01bcb8-0b14-4abf-b6f2-c1bfd384ba69?api-key=\" + api + \"&format=json&limit=500\"\n",
    "    criteriaAll = [[(k, re.sub(r'\\s+', '%20', v)) for v in criteria[k]] for k in criteria]\n",
    "    url2 = [url1 + ''.join(f'&filters[{ls}]={value}' for ls, value in p) for p in product(*criteriaAll)]\n",
    "    \n",
    "    pollutionDfAll = pd.DataFrame()\n",
    "    for i in url2:\n",
    "        response = requests.get(i, verify=True)\n",
    "        response_dict = json.loads(response.text)\n",
    "        pollutionDf = pd.DataFrame(response_dict['records'])\n",
    "        pollutionDfAll = pd.concat([pollutionDfAll, pollutionDf])\n",
    "    \n",
    "    return pollutionDfAll\n",
    "\n",
    "def get_data_cpcb(id, dt):\n",
    "    \n",
    "    datetime2 = dt.strftime('%Y-%m-%dT%H:%M:%SZ')\n",
    "    \n",
    "    key  = '{\"station_id\":\"' + id + '\",\"date\":\"' + datetime2 + '\"}'\n",
    "    body = base64.b64encode(key.encode()).decode()\n",
    "    \n",
    "    timeZoneoffset = int((datetime.datetime.utcnow() - datetime.datetime.now()).total_seconds()/60)\n",
    "    token = '{\"time\":' + str(int(time.time())) + ',\"timeZoneOffset\":'+ str(timeZoneoffset ) +'}'\n",
    "    accessToken = base64.b64encode(str(token).encode()).decode()\n",
    "    \n",
    "    headers = {\n",
    "        'accept': 'application/json, text/javascript, */*; q=0.01',\n",
    "        'accesstoken': accessToken,\n",
    "        'user-agent': 'Mozilla/5.0 (Windows NT 10.0; Win64; x64) AppleWebKit/537.36 (KHTML, like Gecko) Chrome/81.0.4044.138 Safari/537.36',\n",
    "        'content-type': 'application/x-www-form-urlencoded; charset=UTF-8',\n",
    "        'origin': 'https://app.cpcbccr.com',\n",
    "        'referer': 'https://app.cpcbccr.com/AQI_India/',\n",
    "        'sec-fetch-site': 'same-origin',\n",
    "        'sec-fetch-mode': 'cors',\n",
    "        'sec-fetch-dest': 'empty',\n",
    "        'accept-language': 'en-US,en;q=0.9'\n",
    "    }\n",
    "    \n",
    "    response = requests.post('https://app.cpcbccr.com/aqi_dashboard/aqi_all_Parameters', headers=headers, data=body, verify=True)\n",
    "    response_dict = json.loads(response.text)\n",
    "    print(response_dict)\n",
    "    info = pd.DataFrame({'title':response_dict['title'], 'date':response_dict['date']}, index=[0])\n",
    "    pollutionDf = pd.concat([pd.DataFrame([response_dict['aqi']]), info], axis=1)    \n",
    "    pollutants  = pd.concat([pd.DataFrame(response_dict['metrics']), info], axis=1)\n",
    "    \n",
    "    return pollutionDf, pollutants"
   ]
  },
  {
   "cell_type": "code",
   "execution_count": 26,
   "id": "d7448d44",
   "metadata": {},
   "outputs": [],
   "source": [
    "# Copy of list of sites at ./data/PM25/stations.txt\n",
    "# example:\n",
    "# 'site_1549,\"Hardev Nagar, Bathinda - PPCB\",74.907758,30.233011,TRUE,78,Bathinda,Punjab'"
   ]
  },
  {
   "cell_type": "markdown",
   "id": "1301fa37",
   "metadata": {},
   "source": [
    "## To get current data:"
   ]
  },
  {
   "cell_type": "code",
   "execution_count": 31,
   "id": "cd3c513c",
   "metadata": {},
   "outputs": [
    {
     "data": {
      "text/html": [
       "<div>\n",
       "<style scoped>\n",
       "    .dataframe tbody tr th:only-of-type {\n",
       "        vertical-align: middle;\n",
       "    }\n",
       "\n",
       "    .dataframe tbody tr th {\n",
       "        vertical-align: top;\n",
       "    }\n",
       "\n",
       "    .dataframe thead th {\n",
       "        text-align: right;\n",
       "    }\n",
       "</style>\n",
       "<table border=\"1\" class=\"dataframe\">\n",
       "  <thead>\n",
       "    <tr style=\"text-align: right;\">\n",
       "      <th></th>\n",
       "      <th>id</th>\n",
       "      <th>country</th>\n",
       "      <th>state</th>\n",
       "      <th>city</th>\n",
       "      <th>station</th>\n",
       "      <th>last_update</th>\n",
       "      <th>pollutant_id</th>\n",
       "      <th>pollutant_min</th>\n",
       "      <th>pollutant_max</th>\n",
       "      <th>pollutant_avg</th>\n",
       "    </tr>\n",
       "  </thead>\n",
       "  <tbody>\n",
       "    <tr>\n",
       "      <th>0</th>\n",
       "      <td>2273</td>\n",
       "      <td>India</td>\n",
       "      <td>Punjab</td>\n",
       "      <td>Bathinda</td>\n",
       "      <td>Hardev Nagar, Bathinda - PPCB</td>\n",
       "      <td>07-12-2023 14:00:00</td>\n",
       "      <td>PM10</td>\n",
       "      <td>62</td>\n",
       "      <td>136</td>\n",
       "      <td>98</td>\n",
       "    </tr>\n",
       "    <tr>\n",
       "      <th>1</th>\n",
       "      <td>1037</td>\n",
       "      <td>India</td>\n",
       "      <td>Haryana</td>\n",
       "      <td>Yamuna Nagar</td>\n",
       "      <td>Gobind Pura, Yamuna Nagar - HSPCB</td>\n",
       "      <td>07-12-2023 14:00:00</td>\n",
       "      <td>PM10</td>\n",
       "      <td>119</td>\n",
       "      <td>292</td>\n",
       "      <td>152</td>\n",
       "    </tr>\n",
       "    <tr>\n",
       "      <th>0</th>\n",
       "      <td>2272</td>\n",
       "      <td>India</td>\n",
       "      <td>Punjab</td>\n",
       "      <td>Bathinda</td>\n",
       "      <td>Hardev Nagar, Bathinda - PPCB</td>\n",
       "      <td>07-12-2023 14:00:00</td>\n",
       "      <td>PM2.5</td>\n",
       "      <td>52</td>\n",
       "      <td>135</td>\n",
       "      <td>76</td>\n",
       "    </tr>\n",
       "    <tr>\n",
       "      <th>1</th>\n",
       "      <td>1036</td>\n",
       "      <td>India</td>\n",
       "      <td>Haryana</td>\n",
       "      <td>Yamuna Nagar</td>\n",
       "      <td>Gobind Pura, Yamuna Nagar - HSPCB</td>\n",
       "      <td>07-12-2023 14:00:00</td>\n",
       "      <td>PM2.5</td>\n",
       "      <td>104</td>\n",
       "      <td>333</td>\n",
       "      <td>174</td>\n",
       "    </tr>\n",
       "  </tbody>\n",
       "</table>\n",
       "</div>"
      ],
      "text/plain": [
       "     id country    state          city                            station  \\\n",
       "0  2273   India   Punjab      Bathinda      Hardev Nagar, Bathinda - PPCB   \n",
       "1  1037   India  Haryana  Yamuna Nagar  Gobind Pura, Yamuna Nagar - HSPCB   \n",
       "0  2272   India   Punjab      Bathinda      Hardev Nagar, Bathinda - PPCB   \n",
       "1  1036   India  Haryana  Yamuna Nagar  Gobind Pura, Yamuna Nagar - HSPCB   \n",
       "\n",
       "           last_update pollutant_id pollutant_min pollutant_max pollutant_avg  \n",
       "0  07-12-2023 14:00:00         PM10            62           136            98  \n",
       "1  07-12-2023 14:00:00         PM10           119           292           152  \n",
       "0  07-12-2023 14:00:00        PM2.5            52           135            76  \n",
       "1  07-12-2023 14:00:00        PM2.5           104           333           174  "
      ]
     },
     "execution_count": 31,
     "metadata": {},
     "output_type": "execute_result"
    }
   ],
   "source": [
    "criteria = {'city':[\"Hardev Nagar, Bathinda - PPCB\"], 'pollutant_id': [\"PM10\", \"PM2.5\"]}\n",
    "mydata = getData(api, criteria)\n",
    "mydata.head()"
   ]
  },
  {
   "cell_type": "markdown",
   "id": "e59160c1",
   "metadata": {},
   "source": [
    "## To get historic data:\n",
    "Note, this calls the Central Pollution Control Board (CPCB) dashboard at: http://app.cpcbccr.com/ccr/#/caaqm-dashboard-all/caaqm-landing  In theory, one can download data from this site directly (many authors report doing so). At the time of writing this (7 Dec 2023), this site is not working, thus the following code did not work. "
   ]
  },
  {
   "cell_type": "code",
   "execution_count": 32,
   "id": "da754d47",
   "metadata": {},
   "outputs": [
    {
     "name": "stdout",
     "output_type": "stream",
     "text": [
      "{'detail': 'unauthorized request'}\n"
     ]
    },
    {
     "ename": "KeyError",
     "evalue": "'title'",
     "output_type": "error",
     "traceback": [
      "\u001b[1;31m---------------------------------------------------------------------------\u001b[0m",
      "\u001b[1;31mKeyError\u001b[0m                                  Traceback (most recent call last)",
      "Cell \u001b[1;32mIn [32], line 2\u001b[0m\n\u001b[0;32m      1\u001b[0m \u001b[38;5;28mid\u001b[39m \u001b[38;5;241m=\u001b[39m \u001b[38;5;124m'\u001b[39m\u001b[38;5;124mHardev Nagar, Bathinda - PPCB\u001b[39m\u001b[38;5;124m'\u001b[39m\n\u001b[1;32m----> 2\u001b[0m summary, pollutants \u001b[38;5;241m=\u001b[39m \u001b[43mget_data_cpcb\u001b[49m\u001b[43m(\u001b[49m\u001b[38;5;28;43mid\u001b[39;49m\u001b[43m,\u001b[49m\u001b[43m \u001b[49m\u001b[43mdatetime\u001b[49m\u001b[38;5;241;43m.\u001b[39;49m\u001b[43mdatetime\u001b[49m\u001b[43m(\u001b[49m\u001b[38;5;241;43m2019\u001b[39;49m\u001b[43m,\u001b[49m\u001b[43m \u001b[49m\u001b[38;5;241;43m10\u001b[39;49m\u001b[43m,\u001b[49m\u001b[43m \u001b[49m\u001b[38;5;241;43m1\u001b[39;49m\u001b[43m,\u001b[49m\u001b[43m \u001b[49m\u001b[38;5;241;43m18\u001b[39;49m\u001b[43m)\u001b[49m\u001b[43m)\u001b[49m\n",
      "Cell \u001b[1;32mIn [25], line 45\u001b[0m, in \u001b[0;36mget_data_cpcb\u001b[1;34m(id, dt)\u001b[0m\n\u001b[0;32m     43\u001b[0m response_dict \u001b[38;5;241m=\u001b[39m json\u001b[38;5;241m.\u001b[39mloads(response\u001b[38;5;241m.\u001b[39mtext)\n\u001b[0;32m     44\u001b[0m \u001b[38;5;28mprint\u001b[39m(response_dict)\n\u001b[1;32m---> 45\u001b[0m info \u001b[38;5;241m=\u001b[39m pd\u001b[38;5;241m.\u001b[39mDataFrame({\u001b[38;5;124m'\u001b[39m\u001b[38;5;124mtitle\u001b[39m\u001b[38;5;124m'\u001b[39m:\u001b[43mresponse_dict\u001b[49m\u001b[43m[\u001b[49m\u001b[38;5;124;43m'\u001b[39;49m\u001b[38;5;124;43mtitle\u001b[39;49m\u001b[38;5;124;43m'\u001b[39;49m\u001b[43m]\u001b[49m, \u001b[38;5;124m'\u001b[39m\u001b[38;5;124mdate\u001b[39m\u001b[38;5;124m'\u001b[39m:response_dict[\u001b[38;5;124m'\u001b[39m\u001b[38;5;124mdate\u001b[39m\u001b[38;5;124m'\u001b[39m]}, index\u001b[38;5;241m=\u001b[39m[\u001b[38;5;241m0\u001b[39m])\n\u001b[0;32m     46\u001b[0m pollutionDf \u001b[38;5;241m=\u001b[39m pd\u001b[38;5;241m.\u001b[39mconcat([pd\u001b[38;5;241m.\u001b[39mDataFrame([response_dict[\u001b[38;5;124m'\u001b[39m\u001b[38;5;124maqi\u001b[39m\u001b[38;5;124m'\u001b[39m]]), info], axis\u001b[38;5;241m=\u001b[39m\u001b[38;5;241m1\u001b[39m)    \n\u001b[0;32m     47\u001b[0m pollutants  \u001b[38;5;241m=\u001b[39m pd\u001b[38;5;241m.\u001b[39mconcat([pd\u001b[38;5;241m.\u001b[39mDataFrame(response_dict[\u001b[38;5;124m'\u001b[39m\u001b[38;5;124mmetrics\u001b[39m\u001b[38;5;124m'\u001b[39m]), info], axis\u001b[38;5;241m=\u001b[39m\u001b[38;5;241m1\u001b[39m)\n",
      "\u001b[1;31mKeyError\u001b[0m: 'title'"
     ]
    }
   ],
   "source": [
    "id = 'Hardev Nagar, Bathinda - PPCB'\n",
    "summary, pollutants = get_data_cpcb(id, datetime.datetime(2019, 10, 1, 18))"
   ]
  },
  {
   "cell_type": "code",
   "execution_count": null,
   "id": "3d0c9a86",
   "metadata": {},
   "outputs": [],
   "source": []
  }
 ],
 "metadata": {
  "kernelspec": {
   "display_name": "Python [conda env:venv.cropburn]",
   "language": "python",
   "name": "conda-env-venv.cropburn-py"
  },
  "language_info": {
   "codemirror_mode": {
    "name": "ipython",
    "version": 3
   },
   "file_extension": ".py",
   "mimetype": "text/x-python",
   "name": "python",
   "nbconvert_exporter": "python",
   "pygments_lexer": "ipython3",
   "version": "3.8.17"
  }
 },
 "nbformat": 4,
 "nbformat_minor": 5
}
