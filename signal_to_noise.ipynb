{
 "cells": [
  {
   "cell_type": "code",
   "execution_count": 1,
   "id": "493a95ed",
   "metadata": {},
   "outputs": [],
   "source": [
    "import os\n",
    "import sys\n",
    "from pathlib import Path\n",
    "from matplotlib import gridspec\n",
    "import matplotlib.pyplot as plt\n",
    "import osgeo\n",
    "import pandas as pd\n",
    "\n",
    "%matplotlib inline"
   ]
  },
  {
   "cell_type": "code",
   "execution_count": 2,
   "id": "32bcce4d",
   "metadata": {},
   "outputs": [],
   "source": [
    "sys.path.append(r\"cropburn\")\n",
    "#from timeseries import *\n",
    "from timeseries_sep import *"
   ]
  },
  {
   "cell_type": "code",
   "execution_count": 3,
   "id": "3032ee33",
   "metadata": {},
   "outputs": [],
   "source": [
    "#####INPUTS:\n",
    "out_dir = './data/temp'\n",
    "data_dir = './data/Walker2023RS/TSpoly_dataframes'\n",
    "\n",
    "##For ground-verified polygons:\n",
    "### TODO: change path -- these werecopied to burntfields/Data/TimeSeries\n",
    "#field_list = \"C:/Users/klobw/Desktop/PunjabBurning/Analysis/KW_code/burntfields/Data/TimeSeries/GroundPolys_w_BurnDate.csv\"\n",
    "#planet_dir = \"C:/Users/klobw/Desktop/PunjabBurning/Analysis/KW_code/burntfields/Data/TimeSeries/Planet2019_PolyV4_TSwGround\"\n",
    "#sentinel_dir = \"C:/Users/klobw/Desktop/PunjabBurning/Analysis/KW_code/burntfields/Data/TimeSeries/Sentinel2019_PolyV4_TSwGround\"\n",
    "\n",
    "## For all field polys:\n",
    "#field_list = \"C:/Users/klobw/Desktop/PunjabBurning/Analysis/KW_code/burntfields/Data/Data_1_input_transformed/lon_lat_bbox_600m.csv\"\n",
    "#field_list = \"C:/Users/klobw/Desktop/PunjabBurning/Analysis/KW_code/burntfields/Data/Data_1_input_transformed/test.csv\"\n",
    "#planet_dir = \"E:/Punjab/PunjabPolys/Planet2019V4_HarmonizedSR_poly\"\n",
    "#sentinel_dir = \"E:/Punjab/PunjabPolys/Sentinel2019_PolysV4\"\n",
    "\n",
    "## For all digitized polygons:\n",
    "#field_list = \"C:/Users/klobw/Desktop/PunjabBurning/Analysis/TS_analysis/TS_TrainingPolys_Bbox.csv\"\n",
    "#field_list = \"C:/Users/klobw/Desktop/PunjabBurning/Analysis/TS_analysis/BurnDates_LabeledData_test.csv\"\n",
    "#sentinel_dir = \"\"C:/Users/klobw/Desktop/PunjabBurning/Analysis/TS_analysis/TSpolysOut_Sentinel\"\n",
    "#planet_dir = \"C:/Users/klobw/Desktop/PunjabBurning/Analysis/TS_analysis/Planet2019_PolyV4_TS\"\n",
    "#sentinel_dir = \"E:/Punjab/TimeSeries_Separability/Sentinel2019_PolyV4_TS\"\n",
    "#basma_dir = \"E:/Punjab/TimeSeries_Separability/BASMA2019_Poly_TS\"\n",
    "\n",
    "## For tilled fields:\n",
    "field_list = \"C:/Users/klobw/Desktop/PunjabBurning/Analysis/TS_analysis/FieldPolys_NoBurn_Tilled.csv\"\n",
    "## note with field list do not actually need subdirectories. Can use directories for all field polys.\n",
    "planet_dir = \"D:/Punjab/TS_poly_V4_tilled\"\n",
    "## sentinel_dir = \"E:/Punjab/TimeSeries_Separability/Sentinel2019_TilledFields_PolyV4\""
   ]
  },
  {
   "cell_type": "code",
   "execution_count": null,
   "id": "407b5cb3",
   "metadata": {},
   "outputs": [
    {
     "name": "stdout",
     "output_type": "stream",
     "text": [
      "Working on 0 with id 2112302591\n",
      "Working on 1 with id 1102800461\n",
      "Working on 2 with id 2125900161\n",
      "Working on 3 with id 1120801991\n",
      "Working on 4 with id 1125300331\n",
      "Working on 5 with id 1105400921\n",
      "Working on 6 with id 1208100621\n",
      "Working on 7 with id 1226901091\n",
      "Working on 8 with id 2226901091\n",
      "Working on 9 with id 1116000391\n",
      "Working on 10 with id 2116000391\n",
      "Working on 11 with id 2118200361\n",
      "Working on 12 with id 2120802251\n",
      "Working on 13 with id 1208100921\n",
      "Working on 14 with id 2208100921\n",
      "Working on 15 with id 1119000571\n",
      "Working on 16 with id 1206200071\n",
      "Working on 17 with id 2125000351\n",
      "Working on 18 with id 2206200071\n",
      "Working on 19 with id 1101000091\n",
      "Working on 20 with id 1105800331\n",
      "Working on 21 with id 1125900971\n",
      "Working on 22 with id 1105401211\n",
      "Working on 23 with id 1115501551\n",
      "Working on 24 with id 1205500251\n",
      "Working on 25 with id 1206200841\n",
      "Working on 26 with id 1208401811\n",
      "Working on 27 with id 1209101011\n"
     ]
    }
   ],
   "source": [
    "#### To construct a TS dataframe #########################################################################################\n",
    "##note: for tilled: temporarily changing till and pretill columns in field list to burn and preburn to match code. TODO:make till option in code\n",
    "#### (Graphs are built by reading in pre-built time-series dataframes stored in Data/TSplot_dataframes folder)\n",
    "\n",
    "#burn_ts = get_ts_for_all_pixels(field_list, Sentinel_dir, 9, out_dir, 3, 'SWIR1')\n",
    "burn_ts = get_ts_for_all_pixels(field_list, planet_dir, 4, out_dir, 3, 'BAI')"
   ]
  },
  {
   "cell_type": "code",
   "execution_count": null,
   "id": "87a5788a",
   "metadata": {},
   "outputs": [],
   "source": [
    "#burnNoBurn_df = get_burnNoBurn_classes_matched(BurnTS, out_dir)\n",
    "#separability_measures(burnNoBurn_df)\n",
    "#BurnNoBurnSets = get_burnNoBurn_classes_unmatched(BurnTS, 3, True)"
   ]
  },
  {
   "cell_type": "markdown",
   "id": "cf660ac6",
   "metadata": {},
   "source": [
    "## Get gap stats"
   ]
  },
  {
   "cell_type": "code",
   "execution_count": 2,
   "id": "fd560853",
   "metadata": {},
   "outputs": [
    {
     "ename": "NameError",
     "evalue": "name 'getTSstatsForPolys' is not defined",
     "output_type": "error",
     "traceback": [
      "\u001b[1;31m---------------------------------------------------------------------------\u001b[0m",
      "\u001b[1;31mNameError\u001b[0m                                 Traceback (most recent call last)",
      "Cell \u001b[1;32mIn [2], line 1\u001b[0m\n\u001b[1;32m----> 1\u001b[0m ts \u001b[38;5;241m=\u001b[39m \u001b[43mgetTSstatsForPolys\u001b[49m(planet_dir, field_list)\n\u001b[0;32m      2\u001b[0m avg_avg_delta \u001b[38;5;241m=\u001b[39m \u001b[38;5;28msum\u001b[39m(ts[\u001b[38;5;241m0\u001b[39m])\u001b[38;5;241m/\u001b[39m\u001b[38;5;28mlen\u001b[39m(ts[\u001b[38;5;241m0\u001b[39m])\n\u001b[0;32m      3\u001b[0m avg_max_delta \u001b[38;5;241m=\u001b[39m \u001b[38;5;28msum\u001b[39m(ts[\u001b[38;5;241m1\u001b[39m])\u001b[38;5;241m/\u001b[39m\u001b[38;5;28mlen\u001b[39m(ts[\u001b[38;5;241m1\u001b[39m])\n",
      "\u001b[1;31mNameError\u001b[0m: name 'getTSstatsForPolys' is not defined"
     ]
    }
   ],
   "source": [
    "ts = get_ts_stats_for_polys(planet_dir, field_list)\n",
    "avg_avg_delta = sum(ts[0])/len(ts[0])\n",
    "avg_max_delta = sum(ts[1])/len(ts[1])\n",
    "max_avg_delta = max(ts[0])\n",
    "max_max_delta = max(ts[1])\n",
    "print(avg_avg_delta,avg_max_delta, max_avg_delta, max_max_delta)"
   ]
  },
  {
   "cell_type": "code",
   "execution_count": null,
   "id": "ca381b55",
   "metadata": {},
   "outputs": [],
   "source": [
    "####Get Separability measures (just M for now) for top Planet variables: \n",
    "burnTS0 = pd.read_csv(os.path.join(data_dir,'TS_polyData_Sentinel_BASMA_char.csv'), index_col=0)\n",
    "burnTS = pd.read_csv(os.path.join(data_dir,'TS_polyData_PlanetV4_CI.csv'), index_col=0)\n",
    "burnTS2 = pd.read_csv(os.path.join(data_dir,'TS_polyData_PlanetV4_BAI.csv'), index_col=0)\n",
    "burnTS3 = pd.read_csv(os.path.join(data_dir,'TS_polyData_PlanetV4_BareSoil.csv'), index_col=0)\n",
    "burnTS4 = pd.read_csv(os.path.join(data_dir,'TS_polyData_PlanetV4_nir.csv'), index_col=0)\n",
    "\n",
    "tsdsB0 = get_ts_for_days_since_burn(burnTS0, out_dir,8,1,16,False)\n",
    "tsdsB = get_ts_for_days_since_burn(burnTS, out_dir,8,1,16,False)\n",
    "tsdsB2 = get_ts_for_days_since_burn(burnTS2, out_dir,8,1,16,False)\n",
    "tsdsB3 = get_ts_for_days_since_burn(burnTS3, out_dir,8,1,16,False)\n",
    "tsdsB4 = get_ts_for_days_since_burn(burnTS4, out_dir,8,1,16,False)\n",
    "\n",
    "dsBsep0 = separabilityTS(tsdsB0)\n",
    "dsBsep = separabilityTS(tsdsB)\n",
    "dsBsep2 = separabilityTS(tsdsB2)\n",
    "dsBsep3 = separabilityTS(tsdsB3)\n",
    "dsBsep4 = separabilityTS(tsdsB4)"
   ]
  },
  {
   "cell_type": "code",
   "execution_count": null,
   "id": "2effd48e",
   "metadata": {},
   "outputs": [],
   "source": [
    "####Get Separability measures (just M for now) for top Sentinel variables: \n",
    "\n",
    "#BurnTS6_S = Get_TS_for_All_Pixels(field_list, Sentinel_dir, 9, out_dir, 3, 'CI')\n",
    "burnTS_S = pd.read_csv(os.path.join(data_dir,'TS_polyData_SentinelV4_NBR2.csv'), index_col=0)\n",
    "burnTS2_S = pd.read_csv(os.path.join(data_dir,'TS_polyData_SentinelV4_MIRBI.csv'), index_col=0)\n",
    "burnTS3_S = pd.read_csv(os.path.join(data_dir,'TS_polyData_SentinelV4_BurnScar.csv'), index_col=0)\n",
    "burnTS4_S = pd.read_csv(os.path.join(data_dir,'TS_polyData_SentinelV4_SWIR1.csv'), index_col=0)\n",
    "burnTS5_S = pd.read_csv(os.path.join(data_dir,'TS_polyData_SentinelV4_nir.csv'), index_col=0)\n",
    "burnTS6_S = pd.read_csv(os.path.join(data_dir,'TS_polyData_SentinelV4_CI.csv'), index_col=0)\n",
    "tsdsB_S = get_ts_for_days_since_burn(burnTS_S, out_dir,8,1,16,False)\n",
    "tsdsB2_S = get_ts_for_days_since_burn(burnTS2_S, out_dir,8,1,16,False)\n",
    "tsdsB3_S = get_ts_for_days_since_burn(burnTS3_S, out_dir,8,1,16,False)\n",
    "tsdsB4_S = get_ts_for_days_since_burn(burnTS4_S, out_dir,8,1,16,False)\n",
    "tsdsB5_S = get_ts_for_days_since_burn(burnTS5_S, out_dir,8,1,16,False)\n",
    "tsdsB6_S = get_ts_for_days_since_burn(burnTS6_S, out_dir,8,1,16,False)\n",
    "#SeparabilityMeasures(BurnNoBurnDF)\n",
    "dsBsep_S = separabilityTS(tsdsB_S)\n",
    "dsBsep2_S = separabilityTS(tsdsB2_S)\n",
    "dsBsep3_S = separabilityTS(tsdsB3_S)\n",
    "dsBsep4_S = separabilityTS(tsdsB4_S)\n",
    "dsBsep5_S = separabilityTS(tsdsB5_S)\n",
    "dsBsep6_S = separabilityTS(tsdsB6_S)"
   ]
  },
  {
   "cell_type": "markdown",
   "id": "d8d247a6",
   "metadata": {},
   "source": [
    "## Get pre-post difference"
   ]
  },
  {
   "cell_type": "code",
   "execution_count": null,
   "id": "2caa6fc8",
   "metadata": {},
   "outputs": [],
   "source": [
    "sig_planet_nir = get_burn_signal(data_dir, sensor='PlanetV4', var='nir', max_days_pre=8, max_days_post=10)\n",
    "sig_S2_nir = get_burn_signal(data_dir, sensor='SentinelV4', var='nir', max_days_pre=8, max_days_post=10)\n",
    "sig_S2_nir_df = pd.DataFrame(sig_S2_nir.items())\n",
    "sig_planet_nir_df = pd.DataFrame(sig_planet_nir.items())\n",
    "print(sig_S2_nir_df)"
   ]
  },
  {
   "cell_type": "markdown",
   "id": "88ab2336",
   "metadata": {},
   "source": [
    "## Compare pre-post difference to differences before burn (noise vs signal) "
   ]
  },
  {
   "cell_type": "code",
   "execution_count": null,
   "id": "d48c17e9",
   "metadata": {},
   "outputs": [],
   "source": [
    "sensor = 'SentinelV4'\n",
    "var = 'nir'\n",
    "burn_ts = pd.read_csv(os.path.join(data_dir,'TS_polyData_{}_{}.csv'.format(sensor,var)),index_col=0)\n",
    "#sig_dict = get_burn_signal(ts_dir, sensor='SentinelV4', var='nir', max_days_pre=8, max_days_post=10)\n",
    "#ts = get_ts_for_days_since_burn(burn_ts, out_dir, 8, 3, 4, single_post_obs=False, print_df=False)\n",
    "pre_burn = burn_ts[(burn_ts.index < 0)]\n",
    "pre_burn_f = pre_burn.ffill(axis=0)\n",
    "#ts_t2 = ts_f.copy()\n",
    "#ts_t2['up_one']=ts_t2.index - 1\n",
    "#ts_t2.set_index(ts_t2['up_one'], inplace=True)\n",
    "#diff = ts_t2 - ts_f\n",
    "#diff.drop(columns=['up_one'],inplace=True)\n",
    "#pre_burn_diff = get_image_diffs(pre_burn)\n",
    "#false_sig_pre = get_false_signals(pre_burn_diff, sig_dict)\n",
    "pre_burn_f.tail(n=20)"
   ]
  },
  {
   "cell_type": "code",
   "execution_count": null,
   "id": "77c766e2",
   "metadata": {},
   "outputs": [],
   "source": [
    "planet_nir_noise_pre, planet_nir_noise_post = get_noise_vs_signal(data_dir, sensor='PlanetV4', var='nir', max_days_pre=8, max_days_post=10)\n",
    "s2_nir_noise_pre, s2_nir_noise_post = get_noise_vs_signal(data_dir, sensor='SentinelV4', var='nir', max_days_pre=8, max_days_post=10)\n",
    "\n",
    "fig, (ax1, ax2, ax3) = plt.subplots(1, 3, figsize=(12, 3))\n",
    "ax1.plot(range(1,1+len(s2_nir_noise_pre)),s2_nir_noise_pre, linestyle = 'None', marker='o', color='g', label='S2_nir')\n",
    "ax1.plot(range(1,1+len(planet_nir_noise_pre)),planet_nir_noise_pre, linestyle = 'None', marker='o', color='b', label='Planet_nir')\n",
    "ax3.plot(range(1,1+len(sig_S2_nir_df[1])),sig_S2_nir_df[1], linestyle = 'None', marker='o', color='g', label='S2_nir')\n",
    "ax3.plot(range(1,1+len(sig_S2_nir_df[1])),sig_planet_nir_df[1], linestyle = 'None', marker='o', color='b', label='planet_nir')\n",
    "ax2.plot(range(1,1+len(planet_nir_noise_post)),planet_nir_noise_post, linestyle = 'None', marker='o', color='b', label='Planet_nir')\n",
    "ax2.plot(range(1,1+len(s2_nir_noise_post)),s2_nir_noise_post, linestyle = 'None', marker='o', color='g', label='S2_nir')\n",
    "ax1.set_title (\"Pre-burn noise\")\n",
    "ax2.set_title (\"Post-burn noise\")\n",
    "ax3.set_title (\"pre/post burn difference\")\n",
    "ax1.set_ylabel ('% plygons with noise > signal')\n",
    "ax2.set_xlabel ('Days since burn')\n",
    "plt.legend(bbox_to_anchor=(1, 0, 0.5, 0.5), loc='right');"
   ]
  },
  {
   "cell_type": "code",
   "execution_count": null,
   "id": "a014f7a5",
   "metadata": {},
   "outputs": [],
   "source": [
    "#### Plot TS for Sentinel & Planet variables \n",
    "#fig = plt.figure(figsize=(7, 5))\n",
    "#plt.subplot(1, 2, 1)\n",
    "#plt.figure(figsize=(7, 5))\n",
    "fig, (ax1, ax2) = plt.subplots(1, 2, figsize=(10, 3))\n",
    "ax1.plot(dsBsep.index,dsBsep[0], linestyle = 'None', marker='o', color='b', label='CI')\n",
    "#ax1.plot(dsBsep0.index,dsBsep0[0], linestyle = 'None', marker='^', color='m', label='BASMA_char')\n",
    "#ax1.plot(dsBsep2.index,dsBsep2[0], linestyle = 'None', marker='v', label='BAI')\n",
    "#ax1.plot(dsBsep3.index,dsBsep3[0], linestyle = 'None', marker='s', label='BareSoil')\n",
    "ax1.plot(dsBsep4.index,dsBsep4[0], linestyle = 'None', marker='*', color='g', label='nir')\n",
    "ax1.axhline(y = 1, color = 'k', linestyle = '-')\n",
    "ax1.set_title (\"indices with PlanetScope data\")\n",
    "ax1.set_ylabel ('M-value')\n",
    "ax1.set_xlabel ('Days since burn')\n",
    "ax1.grid(axis='y')\n",
    "#ax1.legend(loc='lower left')\n",
    "\n",
    "#ax2.plot(dsBsep_S.index,dsBsep_S[0], linestyle = 'None', marker='o', label='NBR2')\n",
    "ax2.plot(dsBsep2_S.index,dsBsep2_S[0], linestyle = 'None', marker='v', color='m', label='MIRBI')\n",
    "#ax2.plot(dsBsep3_S.index,dsBsep3_S[0], linestyle = 'None', marker='s', label='BurnScar')\n",
    "ax2.plot(dsBsep4_S.index,dsBsep4_S[0], linestyle = 'None', marker='^', color='c', label='SWIR1')\n",
    "ax2.plot(dsBsep5_S.index,dsBsep5_S[0], linestyle = 'None', marker='*', color='g') #This is nir. No label due to shared legend\n",
    "ax2.plot(dsBsep6_S.index,dsBsep6_S[0], linestyle = 'None', marker='o', color='b') #This is CI. No label due to shared legend\n",
    "ax2.axhline(y = 1, color = 'k', linestyle = '-')\n",
    "ax2.set_title (\"indices with Sentinel data\")\n",
    "#ax2.set_ylabel ('M-value')\n",
    "ax2.set_xlabel ('Days since burn')\n",
    "\n",
    "ax2.grid(axis='y')\n",
    "#ax2.legend(loc='lower left')\n",
    "\n",
    "plt.subplots_adjust(wspace=.2);\n",
    "\n",
    "fig.legend(loc='right')"
   ]
  },
  {
   "cell_type": "code",
   "execution_count": null,
   "id": "4250ce24",
   "metadata": {},
   "outputs": [],
   "source": [
    "#### Same as above as a single plot:\n",
    "plt.figure(figsize=(8, 4))\n",
    "plt.plot(dsBsep2_S.index,dsBsep2_S[0], linestyle = 'None', marker='v', color='m', label='MIRBI_Sentinel')\n",
    "plt.plot(dsBsep4_S.index,dsBsep4_S[0], linestyle = 'None', marker='^', color='c', label='SWIR1_Sentinel')\n",
    "plt.plot(dsBsep5_S.index,dsBsep5_S[0], linestyle = 'None', marker='o', color='g', label='nir_Sentinel') \n",
    "plt.plot(dsBsep4.index,dsBsep4[0], linestyle = 'None', marker='o', color='g', markerfacecolor='none', label='nir_Planet')\n",
    "plt.plot(dsBsep6_S.index,dsBsep6_S[0], linestyle = 'None', marker='s', color='b', label ='CI_Sentinel')\n",
    "plt.plot(dsBsep.index,dsBsep[0], linestyle = 'None', marker='s', color='b', markerfacecolor='none', label='CI_Planet')\n",
    "plt.axhline(y = 1, color = 'k', linestyle = '-')\n",
    "plt.title (\"Index performance in separating pre/post burn of any field type\", fontsize=12)\n",
    "plt.ylabel ('Separability (M-value)', fontsize=10)\n",
    "plt.xlabel ('Days since burn', fontsize=10)\n",
    "plt.grid(axis='y')\n",
    "plt.legend(bbox_to_anchor=(1, 1, 0.3, -1.5), loc='right');"
   ]
  },
  {
   "cell_type": "code",
   "execution_count": null,
   "id": "cf9cceb5",
   "metadata": {},
   "outputs": [],
   "source": [
    "####Get Separability measures (just M for now) for top Planet variables: \n",
    "burnTSg = pd.read_csv(os.path.join(data_dir,'TSwGround_polyData_Planet_CI.csv'), index_col=0)\n",
    "burnTSg4 = pd.read_csv(os.path.join(data_dir,'TSwGround_polyData_Planet_nir.csv'), index_col=0)\n",
    "\n",
    "tsdsBg = get_ts_for_days_since_burn(burnTSg, out_dir,8,1,16,False)\n",
    "tsdsBg4 = get_ts_for_days_since_burn(burnTSg4, out_dir,8,1,16,False)\n",
    "\n",
    "dsBgsep = separabilityTS(tsdsBg)\n",
    "dsBgsep4 = separabilityTS(tsdsBg4)\n",
    "\n",
    "#burnTS6_S = Get_TS_for_All_Pixels(field_list, Sentinel_dir, 9, out_dir, 3, 'CI')\n",
    "burnTSg2_S = pd.read_csv(os.path.join(data_dir,'TSwGround_polyData_Sentinel_MIRBI.csv'), index_col=0)\n",
    "burnTSg4_S = pd.read_csv(os.path.join(data_dir,'TSwGround_polyData_Sentinel_SWIR1.csv'), index_col=0)\n",
    "burnTSg5_S = pd.read_csv(os.path.join(data_dir,'TSwGround_polyData_Sentinel_nir.csv'), index_col=0)\n",
    "burnTSg6_S = pd.read_csv(os.path.join(data_dir,'TSwGround_polyData_Sentinel_CI.csv'), index_col=0)\n",
    "\n",
    "tsdsBg2_S = get_ts_for_days_since_burn(burnTSg2_S, out_dir,8,1,16,False)\n",
    "tsdsBg4_S = get_ts_for_days_since_burn(burnTSg4_S, out_dir,8,1,16,False)\n",
    "tsdsBg5_S = get_ts_for_days_since_burn(burnTSg5_S, out_dir,8,1,16,False)\n",
    "tsdsBg6_S = get_ts_for_days_since_burn(burnTSg6_S, out_dir,8,1,16,False)\n",
    "#SeparabilityMeasures(BurnNoBurnDF)\n",
    "dsBgsep2_S = separabilityTS(tsdsBg2_S)\n",
    "dsBgsep4_S = separabilityTS(tsdsBg4_S)\n",
    "dsBgsep5_S = separabilityTS(tsdsBg5_S)\n",
    "dsBgsep6_S = separabilityTS(tsdsBg6_S)"
   ]
  },
  {
   "cell_type": "markdown",
   "id": "80b0f339",
   "metadata": {},
   "source": [
    "## Plot TS for ground polys (known rice paddys) with burn date observed in Planet"
   ]
  },
  {
   "cell_type": "code",
   "execution_count": null,
   "id": "1d9c18f3",
   "metadata": {},
   "outputs": [],
   "source": [
    "plt.figure(figsize=(8, 4))\n",
    "plt.plot(dsBgsep2_S.index,dsBgsep2_S[0], linestyle = 'None', marker='v', color='m', label='MIRBI_Sentinel')\n",
    "plt.plot(dsBgsep4_S.index,dsBgsep4_S[0], linestyle = 'None', marker='^', color='c', label='SWIR1_Sentinel')\n",
    "plt.plot(dsBgsep5_S.index,dsBgsep5_S[0], linestyle = 'None', marker='o', color='g', label='nir_Sentinel') \n",
    "plt.plot(dsBgsep4.index,dsBgsep4[0], linestyle = 'None', marker='o', color='g', markerfacecolor='none', label='nir_Planet')\n",
    "plt.plot(dsBgsep6_S.index,dsBgsep6_S[0], linestyle = 'None', marker='s', color='b', label ='CI_Sentinel')\n",
    "plt.plot(dsBgsep.index,dsBgsep[0], linestyle = 'None', marker='s', color='b', markerfacecolor='none', label='CI_Planet')\n",
    "plt.axhline(y = 1, color = 'k', linestyle = '-')\n",
    "plt.title (\"Index performance in separating pre/post burn of known rice paddys\", fontsize=12)\n",
    "plt.ylabel ('Separability (M-value)', fontsize=10)\n",
    "plt.xlabel ('Days since burn', fontsize=10)\n",
    "plt.grid(axis='y')\n",
    "plt.ylim(.5,2.5)\n",
    "plt.legend(bbox_to_anchor=(1, 1, 0.3, -1.5), loc='right');"
   ]
  },
  {
   "cell_type": "markdown",
   "id": "0af292c1",
   "metadata": {},
   "source": [
    "## Compare seperability of tilled vs. burned\n",
    "see notebook: band_separability_plot_fig5"
   ]
  }
 ],
 "metadata": {
  "kernelspec": {
   "display_name": "Python [conda env:venv.cropburn]",
   "language": "python",
   "name": "conda-env-venv.cropburn-py"
  },
  "language_info": {
   "codemirror_mode": {
    "name": "ipython",
    "version": 3
   },
   "file_extension": ".py",
   "mimetype": "text/x-python",
   "name": "python",
   "nbconvert_exporter": "python",
   "pygments_lexer": "ipython3",
   "version": "3.8.17"
  }
 },
 "nbformat": 4,
 "nbformat_minor": 5
}
