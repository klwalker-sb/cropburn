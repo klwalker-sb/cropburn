{
 "cells": [
  {
   "cell_type": "markdown",
   "id": "ffc77c6a",
   "metadata": {},
   "source": [
    "# Compare active fires to validation polys"
   ]
  },
  {
   "cell_type": "markdown",
   "id": "da6d97a2",
   "metadata": {},
   "source": [
    "#inputs: \n",
    "   mask: NDVI<.7 prior to harvest (clearest Aug/Sept Sentinel image)\n",
    "   valid_polys = shp / gpkg of validation polygons with attribute for day of (first collect polys and mask with urban/dark)\n"
   ]
  },
  {
   "cell_type": "code",
   "execution_count": 2,
   "id": "1c9cac99",
   "metadata": {},
   "outputs": [],
   "source": [
    "import sys\n",
    "import os\n",
    "import osgeo  # needed only if running from Windows\n",
    "from pathlib import Path\n",
    "#from shapely.geometry import box\n",
    "import geopandas as gpd\n",
    "#import pandas as pd\n",
    "import matplotlib.pyplot as plt\n",
    "%matplotlib inline"
   ]
  },
  {
   "cell_type": "code",
   "execution_count": 3,
   "id": "bc6d8b1d",
   "metadata": {},
   "outputs": [],
   "source": [
    "sys.path.append(r\"cropburn\")\n",
    "#from planet_obs_stats import *\n",
    "from timeseries import *"
   ]
  },
  {
   "cell_type": "markdown",
   "id": "e2ceabc4",
   "metadata": {},
   "source": [
    "## order and download active fire data from NASA FIRMS website\n",
    "###   Unzip folder and change link to active_fire_dir below. (current link is a sample dataset)\n",
    "### (see readme that comes with download for more info on product)"
   ]
  },
  {
   "cell_type": "code",
   "execution_count": 4,
   "id": "b5aaa12b",
   "metadata": {},
   "outputs": [],
   "source": [
    "active_fire_dir = os.path.join(r'data','active_fires')"
   ]
  },
  {
   "cell_type": "code",
   "execution_count": 5,
   "id": "12262567",
   "metadata": {},
   "outputs": [],
   "source": [
    "#grid_file = r\"data/Grid_Punjab_UTM.gpkg\"\n",
    "aoi_file = os.path.join(r'data','AOIs','cell31.shp')"
   ]
  },
  {
   "cell_type": "code",
   "execution_count": 6,
   "id": "f114a75e",
   "metadata": {},
   "outputs": [
    {
     "name": "stdout",
     "output_type": "stream",
     "text": [
      "viirs data are in: EPSG:4326\n",
      "original aoi file is in: EPSG:7773\n",
      "aoi file is now in: EPSG:4326\n"
     ]
    }
   ],
   "source": [
    "viirs_file = [f for f in os.listdir(active_fire_dir) if f.startswith('fire_archive_SV-C2') and f.endswith('.shp')]\n",
    "modis_file = [f for f in os.listdir(active_fire_dir) if f.startswith('fire_archive_M') and f.endswith('.shp')]\n",
    "\n",
    "## if aoi is single polygon shapefile:\n",
    "viirs = gpd.read_file(os.path.join(active_fire_dir,viirs_file[0]))\n",
    "modis = gpd.read_file(os.path.join(active_fire_dir,modis_file[0]))\n",
    "\n",
    "aoi = gpd.read_file(aoi_file)\n",
    "print(\"viirs data are in:\", viirs.crs)\n",
    "print(\"original aoi file is in:\", aoi.crs)\n",
    "if aoi.crs != viirs.crs:\n",
    "    aoi = aoi.to_crs(viirs.crs)\n",
    "print(\"aoi file is now in:\", aoi.crs)"
   ]
  },
  {
   "cell_type": "markdown",
   "id": "9c22b161",
   "metadata": {},
   "source": [
    "## crop active fire data to aoi:"
   ]
  },
  {
   "cell_type": "code",
   "execution_count": null,
   "id": "b4fadac6",
   "metadata": {},
   "outputs": [],
   "source": [
    "#viirs_clip = get_pts_in_grid (grid_file, 31, viirs_file)"
   ]
  },
  {
   "cell_type": "code",
   "execution_count": 7,
   "id": "d67b51bf",
   "metadata": {},
   "outputs": [
    {
     "name": "stdout",
     "output_type": "stream",
     "text": [
      "there are 166 active fire points in this period for this aoi\n"
     ]
    },
    {
     "data": {
      "text/html": [
       "<div>\n",
       "<style scoped>\n",
       "    .dataframe tbody tr th:only-of-type {\n",
       "        vertical-align: middle;\n",
       "    }\n",
       "\n",
       "    .dataframe tbody tr th {\n",
       "        vertical-align: top;\n",
       "    }\n",
       "\n",
       "    .dataframe thead th {\n",
       "        text-align: right;\n",
       "    }\n",
       "</style>\n",
       "<table border=\"1\" class=\"dataframe\">\n",
       "  <thead>\n",
       "    <tr style=\"text-align: right;\">\n",
       "      <th></th>\n",
       "      <th>LATITUDE</th>\n",
       "      <th>LONGITUDE</th>\n",
       "      <th>BRIGHTNESS</th>\n",
       "      <th>SCAN</th>\n",
       "      <th>TRACK</th>\n",
       "      <th>ACQ_DATE</th>\n",
       "      <th>ACQ_TIME</th>\n",
       "      <th>SATELLITE</th>\n",
       "      <th>INSTRUMENT</th>\n",
       "      <th>CONFIDENCE</th>\n",
       "      <th>VERSION</th>\n",
       "      <th>BRIGHT_T31</th>\n",
       "      <th>FRP</th>\n",
       "      <th>DAYNIGHT</th>\n",
       "      <th>TYPE</th>\n",
       "      <th>day</th>\n",
       "      <th>mo</th>\n",
       "      <th>dos</th>\n",
       "      <th>geometry</th>\n",
       "    </tr>\n",
       "  </thead>\n",
       "  <tbody>\n",
       "    <tr>\n",
       "      <th>37417</th>\n",
       "      <td>30.471071</td>\n",
       "      <td>74.956268</td>\n",
       "      <td>342.60</td>\n",
       "      <td>0.39</td>\n",
       "      <td>0.44</td>\n",
       "      <td>2019-11-04</td>\n",
       "      <td>0824</td>\n",
       "      <td>N</td>\n",
       "      <td>VIIRS</td>\n",
       "      <td>n</td>\n",
       "      <td>1</td>\n",
       "      <td>301.11</td>\n",
       "      <td>7.54</td>\n",
       "      <td>D</td>\n",
       "      <td>0</td>\n",
       "      <td>4</td>\n",
       "      <td>11</td>\n",
       "      <td>26.0</td>\n",
       "      <td>POINT (74.95627 30.47107)</td>\n",
       "    </tr>\n",
       "    <tr>\n",
       "      <th>32828</th>\n",
       "      <td>30.476761</td>\n",
       "      <td>74.970390</td>\n",
       "      <td>342.91</td>\n",
       "      <td>0.37</td>\n",
       "      <td>0.58</td>\n",
       "      <td>2019-11-03</td>\n",
       "      <td>0842</td>\n",
       "      <td>N</td>\n",
       "      <td>VIIRS</td>\n",
       "      <td>n</td>\n",
       "      <td>1</td>\n",
       "      <td>291.34</td>\n",
       "      <td>2.27</td>\n",
       "      <td>D</td>\n",
       "      <td>0</td>\n",
       "      <td>3</td>\n",
       "      <td>11</td>\n",
       "      <td>25.0</td>\n",
       "      <td>POINT (74.97039 30.47676)</td>\n",
       "    </tr>\n",
       "    <tr>\n",
       "      <th>48662</th>\n",
       "      <td>30.477396</td>\n",
       "      <td>74.971016</td>\n",
       "      <td>333.64</td>\n",
       "      <td>0.46</td>\n",
       "      <td>0.39</td>\n",
       "      <td>2019-11-06</td>\n",
       "      <td>0748</td>\n",
       "      <td>N</td>\n",
       "      <td>VIIRS</td>\n",
       "      <td>n</td>\n",
       "      <td>1</td>\n",
       "      <td>301.65</td>\n",
       "      <td>6.58</td>\n",
       "      <td>D</td>\n",
       "      <td>0</td>\n",
       "      <td>6</td>\n",
       "      <td>11</td>\n",
       "      <td>28.0</td>\n",
       "      <td>POINT (74.97102 30.47740)</td>\n",
       "    </tr>\n",
       "    <tr>\n",
       "      <th>65827</th>\n",
       "      <td>30.471153</td>\n",
       "      <td>74.958527</td>\n",
       "      <td>331.68</td>\n",
       "      <td>0.34</td>\n",
       "      <td>0.56</td>\n",
       "      <td>2019-11-18</td>\n",
       "      <td>0724</td>\n",
       "      <td>N</td>\n",
       "      <td>VIIRS</td>\n",
       "      <td>n</td>\n",
       "      <td>1</td>\n",
       "      <td>300.64</td>\n",
       "      <td>1.58</td>\n",
       "      <td>D</td>\n",
       "      <td>0</td>\n",
       "      <td>18</td>\n",
       "      <td>11</td>\n",
       "      <td>40.0</td>\n",
       "      <td>POINT (74.95853 30.47115)</td>\n",
       "    </tr>\n",
       "    <tr>\n",
       "      <th>70468</th>\n",
       "      <td>30.475355</td>\n",
       "      <td>74.930885</td>\n",
       "      <td>327.66</td>\n",
       "      <td>0.39</td>\n",
       "      <td>0.36</td>\n",
       "      <td>2019-11-21</td>\n",
       "      <td>0806</td>\n",
       "      <td>N</td>\n",
       "      <td>VIIRS</td>\n",
       "      <td>n</td>\n",
       "      <td>1</td>\n",
       "      <td>295.15</td>\n",
       "      <td>1.89</td>\n",
       "      <td>D</td>\n",
       "      <td>0</td>\n",
       "      <td>21</td>\n",
       "      <td>11</td>\n",
       "      <td>43.0</td>\n",
       "      <td>POINT (74.93089 30.47536)</td>\n",
       "    </tr>\n",
       "  </tbody>\n",
       "</table>\n",
       "</div>"
      ],
      "text/plain": [
       "        LATITUDE  LONGITUDE  BRIGHTNESS  SCAN  TRACK    ACQ_DATE ACQ_TIME  \\\n",
       "37417  30.471071  74.956268      342.60  0.39   0.44  2019-11-04     0824   \n",
       "32828  30.476761  74.970390      342.91  0.37   0.58  2019-11-03     0842   \n",
       "48662  30.477396  74.971016      333.64  0.46   0.39  2019-11-06     0748   \n",
       "65827  30.471153  74.958527      331.68  0.34   0.56  2019-11-18     0724   \n",
       "70468  30.475355  74.930885      327.66  0.39   0.36  2019-11-21     0806   \n",
       "\n",
       "      SATELLITE INSTRUMENT CONFIDENCE VERSION  BRIGHT_T31   FRP DAYNIGHT  \\\n",
       "37417         N      VIIRS          n       1      301.11  7.54        D   \n",
       "32828         N      VIIRS          n       1      291.34  2.27        D   \n",
       "48662         N      VIIRS          n       1      301.65  6.58        D   \n",
       "65827         N      VIIRS          n       1      300.64  1.58        D   \n",
       "70468         N      VIIRS          n       1      295.15  1.89        D   \n",
       "\n",
       "       TYPE  day  mo   dos                   geometry  \n",
       "37417     0    4  11  26.0  POINT (74.95627 30.47107)  \n",
       "32828     0    3  11  25.0  POINT (74.97039 30.47676)  \n",
       "48662     0    6  11  28.0  POINT (74.97102 30.47740)  \n",
       "65827     0   18  11  40.0  POINT (74.95853 30.47115)  \n",
       "70468     0   21  11  43.0  POINT (74.93089 30.47536)  "
      ]
     },
     "execution_count": 7,
     "metadata": {},
     "output_type": "execute_result"
    }
   ],
   "source": [
    "viirs_clip = gpd.clip(viirs, aoi)\n",
    "print ('there are {} active fire points in this period for this aoi'.format(len(viirs_clip)))\n",
    "viirs_clip.head()"
   ]
  },
  {
   "cell_type": "code",
   "execution_count": 8,
   "id": "b2ee0a3a",
   "metadata": {},
   "outputs": [
    {
     "name": "stdout",
     "output_type": "stream",
     "text": [
      "there are 28 active fire points in this period for this aoi\n"
     ]
    },
    {
     "data": {
      "text/html": [
       "<div>\n",
       "<style scoped>\n",
       "    .dataframe tbody tr th:only-of-type {\n",
       "        vertical-align: middle;\n",
       "    }\n",
       "\n",
       "    .dataframe tbody tr th {\n",
       "        vertical-align: top;\n",
       "    }\n",
       "\n",
       "    .dataframe thead th {\n",
       "        text-align: right;\n",
       "    }\n",
       "</style>\n",
       "<table border=\"1\" class=\"dataframe\">\n",
       "  <thead>\n",
       "    <tr style=\"text-align: right;\">\n",
       "      <th></th>\n",
       "      <th>LATITUDE</th>\n",
       "      <th>LONGITUDE</th>\n",
       "      <th>BRIGHTNESS</th>\n",
       "      <th>SCAN</th>\n",
       "      <th>TRACK</th>\n",
       "      <th>ACQ_DATE</th>\n",
       "      <th>ACQ_TIME</th>\n",
       "      <th>SATELLITE</th>\n",
       "      <th>INSTRUMENT</th>\n",
       "      <th>CONFIDENCE</th>\n",
       "      <th>VERSION</th>\n",
       "      <th>BRIGHT_T31</th>\n",
       "      <th>FRP</th>\n",
       "      <th>DAYNIGHT</th>\n",
       "      <th>TYPE</th>\n",
       "      <th>geometry</th>\n",
       "    </tr>\n",
       "  </thead>\n",
       "  <tbody>\n",
       "    <tr>\n",
       "      <th>12011</th>\n",
       "      <td>30.4784</td>\n",
       "      <td>74.8745</td>\n",
       "      <td>320.5</td>\n",
       "      <td>1.0</td>\n",
       "      <td>1.0</td>\n",
       "      <td>2019-11-11</td>\n",
       "      <td>0818</td>\n",
       "      <td>Aqua</td>\n",
       "      <td>MODIS</td>\n",
       "      <td>67</td>\n",
       "      <td>6.03</td>\n",
       "      <td>276.2</td>\n",
       "      <td>17.3</td>\n",
       "      <td>D</td>\n",
       "      <td>0</td>\n",
       "      <td>POINT (74.87450 30.47840)</td>\n",
       "    </tr>\n",
       "    <tr>\n",
       "      <th>8390</th>\n",
       "      <td>30.4764</td>\n",
       "      <td>74.9720</td>\n",
       "      <td>320.7</td>\n",
       "      <td>1.0</td>\n",
       "      <td>1.0</td>\n",
       "      <td>2019-11-04</td>\n",
       "      <td>0811</td>\n",
       "      <td>Aqua</td>\n",
       "      <td>MODIS</td>\n",
       "      <td>33</td>\n",
       "      <td>6.03</td>\n",
       "      <td>300.5</td>\n",
       "      <td>9.9</td>\n",
       "      <td>D</td>\n",
       "      <td>0</td>\n",
       "      <td>POINT (74.97200 30.47640)</td>\n",
       "    </tr>\n",
       "    <tr>\n",
       "      <th>11400</th>\n",
       "      <td>30.4796</td>\n",
       "      <td>74.9489</td>\n",
       "      <td>316.1</td>\n",
       "      <td>1.3</td>\n",
       "      <td>1.1</td>\n",
       "      <td>2019-11-09</td>\n",
       "      <td>0830</td>\n",
       "      <td>Aqua</td>\n",
       "      <td>MODIS</td>\n",
       "      <td>65</td>\n",
       "      <td>6.03</td>\n",
       "      <td>304.1</td>\n",
       "      <td>8.8</td>\n",
       "      <td>D</td>\n",
       "      <td>0</td>\n",
       "      <td>POINT (74.94890 30.47960)</td>\n",
       "    </tr>\n",
       "    <tr>\n",
       "      <th>12974</th>\n",
       "      <td>30.4866</td>\n",
       "      <td>74.9236</td>\n",
       "      <td>318.7</td>\n",
       "      <td>1.1</td>\n",
       "      <td>1.0</td>\n",
       "      <td>2019-11-18</td>\n",
       "      <td>0824</td>\n",
       "      <td>Aqua</td>\n",
       "      <td>MODIS</td>\n",
       "      <td>70</td>\n",
       "      <td>6.03</td>\n",
       "      <td>301.4</td>\n",
       "      <td>9.7</td>\n",
       "      <td>D</td>\n",
       "      <td>0</td>\n",
       "      <td>POINT (74.92360 30.48660)</td>\n",
       "    </tr>\n",
       "    <tr>\n",
       "      <th>8426</th>\n",
       "      <td>30.4864</td>\n",
       "      <td>74.9157</td>\n",
       "      <td>320.1</td>\n",
       "      <td>1.0</td>\n",
       "      <td>1.0</td>\n",
       "      <td>2019-11-04</td>\n",
       "      <td>0811</td>\n",
       "      <td>Aqua</td>\n",
       "      <td>MODIS</td>\n",
       "      <td>22</td>\n",
       "      <td>6.03</td>\n",
       "      <td>301.0</td>\n",
       "      <td>9.3</td>\n",
       "      <td>D</td>\n",
       "      <td>0</td>\n",
       "      <td>POINT (74.91570 30.48640)</td>\n",
       "    </tr>\n",
       "  </tbody>\n",
       "</table>\n",
       "</div>"
      ],
      "text/plain": [
       "       LATITUDE  LONGITUDE  BRIGHTNESS  SCAN  TRACK    ACQ_DATE ACQ_TIME  \\\n",
       "12011   30.4784    74.8745       320.5   1.0    1.0  2019-11-11     0818   \n",
       "8390    30.4764    74.9720       320.7   1.0    1.0  2019-11-04     0811   \n",
       "11400   30.4796    74.9489       316.1   1.3    1.1  2019-11-09     0830   \n",
       "12974   30.4866    74.9236       318.7   1.1    1.0  2019-11-18     0824   \n",
       "8426    30.4864    74.9157       320.1   1.0    1.0  2019-11-04     0811   \n",
       "\n",
       "      SATELLITE INSTRUMENT  CONFIDENCE VERSION  BRIGHT_T31   FRP DAYNIGHT  \\\n",
       "12011      Aqua      MODIS          67    6.03       276.2  17.3        D   \n",
       "8390       Aqua      MODIS          33    6.03       300.5   9.9        D   \n",
       "11400      Aqua      MODIS          65    6.03       304.1   8.8        D   \n",
       "12974      Aqua      MODIS          70    6.03       301.4   9.7        D   \n",
       "8426       Aqua      MODIS          22    6.03       301.0   9.3        D   \n",
       "\n",
       "       TYPE                   geometry  \n",
       "12011     0  POINT (74.87450 30.47840)  \n",
       "8390      0  POINT (74.97200 30.47640)  \n",
       "11400     0  POINT (74.94890 30.47960)  \n",
       "12974     0  POINT (74.92360 30.48660)  \n",
       "8426      0  POINT (74.91570 30.48640)  "
      ]
     },
     "execution_count": 8,
     "metadata": {},
     "output_type": "execute_result"
    }
   ],
   "source": [
    "modis_clip = gpd.clip(modis, aoi)\n",
    "print ('there are {} active fire points in this period for this aoi'.format(len(modis_clip)))\n",
    "modis_clip.head()"
   ]
  },
  {
   "cell_type": "code",
   "execution_count": 13,
   "id": "071949d3",
   "metadata": {},
   "outputs": [
    {
     "data": {
      "image/png": "[encoded data removed]",
      "text/plain": [
       "<Figure size 1200x800 with 1 Axes>"
      ]
     },
     "metadata": {},
     "output_type": "display_data"
    }
   ],
   "source": [
    "fig, ax = plt.subplots(figsize=(12, 8))\n",
    "aoi.plot(ax=ax, alpha=.5)\n",
    "viirs_clip.plot(alpha=1, ax=ax)\n",
    "modis_clip.plot(alpha=1, ax=ax)\n",
    "plt.axis('equal')\n",
    "ax.set_axis_off()\n",
    "plt.show()"
   ]
  },
  {
   "cell_type": "markdown",
   "id": "b428714c",
   "metadata": {},
   "source": [
    "## make histogram of fires by day"
   ]
  },
  {
   "cell_type": "code",
   "execution_count": 9,
   "id": "a8327718",
   "metadata": {},
   "outputs": [
    {
     "name": "stdout",
     "output_type": "stream",
     "text": [
      "there are 15 burn days observed in this season\n",
      "the season is from 2019-10-23 00:00:00 to 2019-11-21 00:00:00\n",
      "the season is 29 days\n"
     ]
    },
    {
     "data": {
      "text/html": [
       "<div>\n",
       "<style scoped>\n",
       "    .dataframe tbody tr th:only-of-type {\n",
       "        vertical-align: middle;\n",
       "    }\n",
       "\n",
       "    .dataframe tbody tr th {\n",
       "        vertical-align: top;\n",
       "    }\n",
       "\n",
       "    .dataframe thead th {\n",
       "        text-align: right;\n",
       "    }\n",
       "</style>\n",
       "<table border=\"1\" class=\"dataframe\">\n",
       "  <thead>\n",
       "    <tr style=\"text-align: right;\">\n",
       "      <th></th>\n",
       "      <th>ACQ_DATE</th>\n",
       "      <th>counts</th>\n",
       "    </tr>\n",
       "    <tr>\n",
       "      <th>obs_date</th>\n",
       "      <th></th>\n",
       "      <th></th>\n",
       "    </tr>\n",
       "  </thead>\n",
       "  <tbody>\n",
       "    <tr>\n",
       "      <th>2019-10-23</th>\n",
       "      <td>2019-10-23</td>\n",
       "      <td>2</td>\n",
       "    </tr>\n",
       "    <tr>\n",
       "      <th>2019-10-27</th>\n",
       "      <td>2019-10-27</td>\n",
       "      <td>1</td>\n",
       "    </tr>\n",
       "    <tr>\n",
       "      <th>2019-10-29</th>\n",
       "      <td>2019-10-29</td>\n",
       "      <td>3</td>\n",
       "    </tr>\n",
       "    <tr>\n",
       "      <th>2019-10-30</th>\n",
       "      <td>2019-10-30</td>\n",
       "      <td>4</td>\n",
       "    </tr>\n",
       "    <tr>\n",
       "      <th>2019-11-03</th>\n",
       "      <td>2019-11-03</td>\n",
       "      <td>36</td>\n",
       "    </tr>\n",
       "  </tbody>\n",
       "</table>\n",
       "</div>"
      ],
      "text/plain": [
       "              ACQ_DATE  counts\n",
       "obs_date                      \n",
       "2019-10-23  2019-10-23       2\n",
       "2019-10-27  2019-10-27       1\n",
       "2019-10-29  2019-10-29       3\n",
       "2019-10-30  2019-10-30       4\n",
       "2019-11-03  2019-11-03      36"
      ]
     },
     "execution_count": 9,
     "metadata": {},
     "output_type": "execute_result"
    }
   ],
   "source": [
    "viirs_bydate = viirs_clip.groupby(['ACQ_DATE'])['ACQ_DATE'].size().reset_index(name='counts')\n",
    "print ('there are {} burn days observed in this season'.format(len(viirs_bydate)))\n",
    "viirs_bydate[\"obs_date\"] = pd.to_datetime(viirs_bydate['ACQ_DATE'])\n",
    "viirs_bydate.set_index(\"obs_date\", inplace=True)\n",
    "\n",
    "season_first = viirs_bydate.index[0]\n",
    "season_last = viirs_bydate.index[-1]\n",
    "print('the season is from {} to {}'.format(season_first, season_last))\n",
    "print('the season is {} days'.format( (viirs_bydate.index[-1] - viirs_bydate.index[0] ).days))\n",
    "\n",
    "viirs_bydate.head()"
   ]
  },
  {
   "cell_type": "code",
   "execution_count": 18,
   "id": "86f78f36",
   "metadata": {},
   "outputs": [
    {
     "name": "stdout",
     "output_type": "stream",
     "text": [
      "range is 71 days, 0:00:00\n"
     ]
    }
   ],
   "source": [
    "viirs_doy = convert_timeseries_to_doy(viirs_bydate, 2019, start_day=283, end_day=354, season=True)\n",
    "\n",
    "from datetime import datetime as dt\n",
    "from datetime import timedelta as td\n",
    "\n",
    "start = dt.strptime(\"10-10-2019\", \"%d-%m-%Y\")\n",
    "end = dt.strptime(\"20-12-2019\", \"%d-%m-%Y\")\n",
    "print(f'range is {end-start}')\n",
    "date_labels = [((start - td(days=1)) + td(days=x)).strftime('%d-%m') for x in range(0,(end-start).days,2)]"
   ]
  },
  {
   "cell_type": "code",
   "execution_count": 11,
   "id": "665996e2",
   "metadata": {},
   "outputs": [
    {
     "name": "stdout",
     "output_type": "stream",
     "text": [
      "there are 9 burn days observed in this season\n"
     ]
    },
    {
     "data": {
      "text/html": [
       "<div>\n",
       "<style scoped>\n",
       "    .dataframe tbody tr th:only-of-type {\n",
       "        vertical-align: middle;\n",
       "    }\n",
       "\n",
       "    .dataframe tbody tr th {\n",
       "        vertical-align: top;\n",
       "    }\n",
       "\n",
       "    .dataframe thead th {\n",
       "        text-align: right;\n",
       "    }\n",
       "</style>\n",
       "<table border=\"1\" class=\"dataframe\">\n",
       "  <thead>\n",
       "    <tr style=\"text-align: right;\">\n",
       "      <th></th>\n",
       "      <th>ACQ_DATE</th>\n",
       "      <th>counts</th>\n",
       "    </tr>\n",
       "    <tr>\n",
       "      <th>obs_date</th>\n",
       "      <th></th>\n",
       "      <th></th>\n",
       "    </tr>\n",
       "  </thead>\n",
       "  <tbody>\n",
       "    <tr>\n",
       "      <th>17</th>\n",
       "      <td>2019-10-26</td>\n",
       "      <td>1</td>\n",
       "    </tr>\n",
       "    <tr>\n",
       "      <th>22</th>\n",
       "      <td>2019-10-31</td>\n",
       "      <td>3</td>\n",
       "    </tr>\n",
       "    <tr>\n",
       "      <th>26</th>\n",
       "      <td>2019-11-04</td>\n",
       "      <td>15</td>\n",
       "    </tr>\n",
       "    <tr>\n",
       "      <th>27</th>\n",
       "      <td>2019-11-05</td>\n",
       "      <td>1</td>\n",
       "    </tr>\n",
       "    <tr>\n",
       "      <th>28</th>\n",
       "      <td>2019-11-06</td>\n",
       "      <td>1</td>\n",
       "    </tr>\n",
       "  </tbody>\n",
       "</table>\n",
       "</div>"
      ],
      "text/plain": [
       "            ACQ_DATE  counts\n",
       "obs_date                    \n",
       "17        2019-10-26       1\n",
       "22        2019-10-31       3\n",
       "26        2019-11-04      15\n",
       "27        2019-11-05       1\n",
       "28        2019-11-06       1"
      ]
     },
     "execution_count": 11,
     "metadata": {},
     "output_type": "execute_result"
    }
   ],
   "source": [
    "modis_bydate = modis_clip.groupby(['ACQ_DATE'])['ACQ_DATE'].size().reset_index(name='counts')\n",
    "print ('there are {} burn days observed in this season'.format(len(modis_bydate)))\n",
    "modis_bydate[\"obs_date\"] = pd.to_datetime(modis_bydate['ACQ_DATE'])\n",
    "modis_bydate.set_index(\"obs_date\", inplace=True)\n",
    "modis_doy = convert_timeseries_to_doy(modis_bydate, 2019, start_day=283, end_day=354, season=True)\n",
    "modis_doy.head()"
   ]
  },
  {
   "cell_type": "code",
   "execution_count": 17,
   "id": "d98a17d6",
   "metadata": {},
   "outputs": [
    {
     "data": {
      "text/plain": [
       "obs_date\n",
       "30    783.0\n",
       "26    692.0\n",
       "23    336.0\n",
       "28    299.0\n",
       "27    294.0\n",
       "Name: ha, dtype: float64"
      ]
     },
     "execution_count": 17,
     "metadata": {},
     "output_type": "execute_result"
    }
   ],
   "source": [
    "planet_ba_file = os.path.join(r'data','Walker2023RS','Img_Lists','ba_31_planet.csv')\n",
    "planet_ba = pd.read_csv(planet_ba_file)\n",
    "planet_ba.head()\n",
    "planet_ba[\"obs_date\"] = pd.to_datetime(planet_ba[\"burn_date\"])\n",
    "planet_ba.set_index(\"obs_date\",inplace=True)\n",
    "planet_doy = convert_timeseries_to_doy(planet_ba, 2019, start_day=283, end_day=354, season=True)\n",
    "planet_doy['ha'].sort_values(ascending=False).head()"
   ]
  },
  {
   "cell_type": "markdown",
   "id": "59bd6a46",
   "metadata": {},
   "source": [
    "## add PM2 data (for underlay):"
   ]
  },
  {
   "cell_type": "code",
   "execution_count": 14,
   "id": "ca026870",
   "metadata": {},
   "outputs": [
    {
     "name": "stdout",
     "output_type": "stream",
     "text": [
      "max PM2.5 value is 223.0695, Min value is 11.397333333333334\n"
     ]
    },
    {
     "data": {
      "text/plain": [
       "From Date\n",
       "1    27.234583\n",
       "2    70.958750\n",
       "3    58.074167\n",
       "4    35.095417\n",
       "5    38.424167\n",
       "Name: PM2.5, dtype: float64"
      ]
     },
     "execution_count": 14,
     "metadata": {},
     "output_type": "execute_result"
    }
   ],
   "source": [
    "pollution_data = pd.read_csv('./data/PM25/Punjab_Bhatinda.csv', usecols=['From Date', 'PM2.5'])\n",
    "# change 'None' to legit NaNs:\n",
    "pollution_data[\"PM2.5\"] = pd.to_numeric(pollution_data[\"PM2.5\"], errors='coerce')\n",
    "# convert to time series:\n",
    "pollution_data['From Date'] = pd.to_datetime(pollution_data['From Date'])\n",
    "pollution_ts = pollution_data[pollution_data['From Date'] > pd.Timestamp(2019,10,9)]\n",
    "pollution_daily = pollution_ts.set_index('From Date').resample('D')['PM2.5'].mean()\n",
    "#pollution_daily.dropna(axis=0, inplace=True)\n",
    "#pollution_daily = pollution_daily.astype(np.int64)\n",
    "print('max PM2.5 value is {}, Min value is {}'.format(pollution_daily.max(), pollution_daily.min()))\n",
    "pollution_doy = convert_timeseries_to_doy(pollution_daily, 2019, start_day=283, end_day=343, season=True)\n",
    "pollution_doy.head()"
   ]
  },
  {
   "cell_type": "code",
   "execution_count": 20,
   "id": "90b93043",
   "metadata": {},
   "outputs": [
    {
     "name": "stderr",
     "output_type": "stream",
     "text": [
      "C:\\Users\\klobw\\AppData\\Local\\Temp\\ipykernel_53980\\61993069.py:18: UserWarning: FixedFormatter should only be used together with FixedLocator\n",
      "  ax1.set_xticklabels(date_labels, rotation='vertical', fontname='Palatino Linotype')\n"
     ]
    },
    {
     "data": {
      "image/png": "[encoded data removed]",
      "text/plain": [
       "<Figure size 1600x800 with 2 Axes>"
      ]
     },
     "metadata": {},
     "output_type": "display_data"
    }
   ],
   "source": [
    "import matplotlib.ticker as ticker\n",
    "import matplotlib.patches as mpatches\n",
    "\n",
    "fig, ax1 = plt.subplots(figsize=(16,8))\n",
    "ax1.margins(x=0)\n",
    "\n",
    "ax1.xaxis.set_major_locator(ticker.MultipleLocator(2))\n",
    "ax1.xaxis.set_minor_locator(ticker.MultipleLocator(1))\n",
    "ax1.bar(viirs_doy.index, viirs_doy['counts'], color='royalblue', width=.9)\n",
    "ax1.bar(modis_doy.index, modis_doy['counts'], color='goldenrod', width=0.4)\n",
    "ax1.set_ylabel('active fire counts', fontsize = 24, fontname='Palatino Linotype') \n",
    "ax1.set_xlabel('observation date (day-month of 2019)', fontsize = 24, fontname='Palatino Linotype')\n",
    "\n",
    "ax2 = ax1.twinx()\n",
    "ax2.margins(x=0)\n",
    "ax2.bar(planet_doy.index, planet_doy.ha, width=.7, color='none',edgecolor='black', linewidth=2)\n",
    "#plt.xticks(ticks=range(0, (viirs_bydate.index[-1] - viirs_bydate.index[0] ).days))\n",
    "ax1.set_xticklabels(date_labels, rotation='vertical', fontname='Palatino Linotype')\n",
    "plt.tick_params(axis='x', labelrotation=45, labelsize=18)\n",
    "ax2.set_ylabel('burned area (ha)', fontsize = 24, fontname='Palatino Linotype') \n",
    "\n",
    "viirs = mpatches.Patch(color='royalblue', label='VIIRS_active fire count')\n",
    "modis = mpatches.Patch(color='goldenrod', label='MODIS_active fire count')\n",
    "planet = mpatches.Patch(fc='none', ec='black', label='Planet burned area (ha)')\n",
    "ax1.legend(handles=[viirs,modis,planet], loc='upper right', fontsize=\"16\", frameon=False)\n",
    "\n",
    "ax1.tick_params(axis='x', labelsize=18)\n",
    "ax1.tick_params(axis='y', labelsize=18)\n",
    "ax2.tick_params(axis='x', labelsize=18)\n",
    "ax2.tick_params(axis='y', labelsize=18)\n",
    "\n",
    "plt.show()"
   ]
  },
  {
   "cell_type": "code",
   "execution_count": null,
   "id": "84b87284",
   "metadata": {},
   "outputs": [],
   "source": []
  }
 ],
 "metadata": {
  "kernelspec": {
   "display_name": "Python [conda env:venv.cropburn]",
   "language": "python",
   "name": "conda-env-venv.cropburn-py"
  },
  "language_info": {
   "codemirror_mode": {
    "name": "ipython",
    "version": 3
   },
   "file_extension": ".py",
   "mimetype": "text/x-python",
   "name": "python",
   "nbconvert_exporter": "python",
   "pygments_lexer": "ipython3",
   "version": "3.8.17"
  }
 },
 "nbformat": 4,
 "nbformat_minor": 5
}
