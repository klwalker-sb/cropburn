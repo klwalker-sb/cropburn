{
 "cells": [
  {
   "cell_type": "markdown",
   "id": "d71083b6",
   "metadata": {},
   "source": [
    "## Make grid of study area"
   ]
  },
  {
   "cell_type": "code",
   "execution_count": 1,
   "id": "1c9cac99",
   "metadata": {},
   "outputs": [],
   "source": [
    "import geopandas as gpd\n",
    "import os\n",
    "import osgeo  # needed only if running from Windows\n",
    "import math\n",
    "import numpy as np\n",
    "from shapely.geometry import Point, Polygon"
   ]
  },
  {
   "cell_type": "code",
   "execution_count": 14,
   "id": "775d442b",
   "metadata": {},
   "outputs": [],
   "source": [
    "# Target grid cell size (in meters)\n",
    "grid_size = 10000\n",
    "# Target cell storage (pixel) size (in meters)\n",
    "cell_size = 10"
   ]
  },
  {
   "cell_type": "code",
   "execution_count": 27,
   "id": "1ca45b91",
   "metadata": {},
   "outputs": [],
   "source": [
    "def grid(bounds, gy, gx, celly, cellx, crs=None):\n",
    "# from https://github.com/jgrss/zones/blob/master/zones/base.py\n",
    "    \"\"\"\n",
    "    Creates polygon grids\n",
    "\n",
    "    Args:\n",
    "        bounds (tuple | BoundingBox): A tuple of (left, bottom, right, top) or a\n",
    "            ``rasterio.coords.BoundingBox`` instance.\n",
    "        gy (float): The target grid y size.\n",
    "        gx (float): The target grid x size.\n",
    "        celly (float): The y cell size.\n",
    "        cellx (float): The x cell size.\n",
    "        crs (Optional[str]): The CRS.\n",
    "\n",
    "    Returns:\n",
    "        ``geopandas.GeoDataFrame``\n",
    "    \"\"\"\n",
    "\n",
    "    left, bottom, right, top = bounds\n",
    "\n",
    "    polys = list()\n",
    "    nrows = int(abs(top - bottom) / abs(celly))\n",
    "    print('nrows={}'.format(nrows))\n",
    "    \n",
    "    ncols = int(abs(right - left) / abs(cellx))\n",
    "    print('ncol={}'.format(ncols))\n",
    "\n",
    "    nrowsp = int(math.ceil((nrows * abs(celly)) / gy))\n",
    "    print('nrowsp={}'.format(nrowsp))\n",
    "    ncolsp = int(math.ceil((ncols * abs(cellx)) / gx))\n",
    "    print('ncolsp={}'.format(ncolsp))\n",
    "\n",
    "    for i in range(0, nrowsp):\n",
    "        for j in range(0, ncolsp):\n",
    "            polys.append(Polygon([(left + j * gx, top - i * gy),\n",
    "                                  (left + (j * gx) + gx, top - i * gy),\n",
    "                                  (left + (j * gx) + gx, top - (i * gy) - gy),\n",
    "                                  (left + j * gx, top - (i * gy) - gy),\n",
    "                                  (left + j * gx, top - i * gy)]))\n",
    "    return gpd.GeoDataFrame(data=np.array(list(range(0, len(polys))), dtype='int64'),\n",
    "                            columns=['grid'],\n",
    "                            geometry=polys,\n",
    "                            crs=crs)"
   ]
  },
  {
   "cell_type": "code",
   "execution_count": 31,
   "id": "f114a75e",
   "metadata": {},
   "outputs": [
    {
     "name": "stdout",
     "output_type": "stream",
     "text": [
      "nrows=13000\n",
      "ncol=9000\n",
      "nrowsp=13\n",
      "ncolsp=9\n",
      "117\n"
     ]
    }
   ],
   "source": [
    "df = gpd.read_file(os.path.join(r'data','aois','subAOI_crop_7773.shp'))\n",
    "left, bottom, right, top = df.total_bounds.tolist()\n",
    "\n",
    "df_grids = grid((left, bottom, right, top),\n",
    "                       grid_size, grid_size,\n",
    "                       cell_size, cell_size,\n",
    "                       crs=df.crs)\n",
    "\n",
    "df_grids.loc[:, 'UNQ'] = range(1, df_grids.shape[0]+1)\n",
    "df_grids.to_file(os.path.join(r'data','gridded_aoi.gpkg'), driver='GPKG')"
   ]
  },
  {
   "cell_type": "code",
   "execution_count": null,
   "id": "84b87284",
   "metadata": {},
   "outputs": [],
   "source": []
  }
 ],
 "metadata": {
  "kernelspec": {
   "display_name": "Python [conda env:venv.cropburn]",
   "language": "python",
   "name": "conda-env-venv.cropburn-py"
  },
  "language_info": {
   "codemirror_mode": {
    "name": "ipython",
    "version": 3
   },
   "file_extension": ".py",
   "mimetype": "text/x-python",
   "name": "python",
   "nbconvert_exporter": "python",
   "pygments_lexer": "ipython3",
   "version": "3.8.17"
  }
 },
 "nbformat": 4,
 "nbformat_minor": 5
}
