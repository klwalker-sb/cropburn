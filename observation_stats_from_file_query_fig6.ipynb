{
 "cells": [
  {
   "cell_type": "markdown",
   "id": "ffc77c6a",
   "metadata": {},
   "source": [
    "# Get observation stats for an AOI (with and without cloud masks)"
   ]
  },
  {
   "cell_type": "code",
   "execution_count": 13,
   "id": "6ec66226",
   "metadata": {},
   "outputs": [],
   "source": [
    "import sys\n",
    "import os\n",
    "import osgeo  # needed only if running from Windows\n",
    "from pathlib import Path\n",
    "#from shapely.geometry import box\n",
    "#from xml.dom import minidom\n",
    "import geopandas as gpd\n",
    "import pandas as pd\n",
    "from matplotlib import pyplot as plt\n",
    "%matplotlib inline"
   ]
  },
  {
   "cell_type": "code",
   "execution_count": 2,
   "id": "3f09ef3a",
   "metadata": {},
   "outputs": [],
   "source": [
    "sys.path.append(r\"cropburn\")\n",
    "from obs_stats import *"
   ]
  },
  {
   "cell_type": "code",
   "execution_count": 3,
   "id": "0427f61a",
   "metadata": {},
   "outputs": [],
   "source": [
    "# pre-processed AOI can be shapefile or geopackage (eg. from Make_Grid)\n",
    "aoi_shp_path = os.path.join(r'data','byCell_shp') # (path to folder containing shapefiles - optional)\n",
    "aoi_geopkg_path = os.path.join(r'data','gridded_aoi.gpkg')\n",
    "#  geojson path is path to folder containing / to contain geojsons for final geometry query\n",
    "aoi_geojson_path = os.path.join(r'data','byCell')\n",
    "\n",
    "out_dir = os.path.join(r'data','Img_Lists')\n",
    "sensor  ='Planet'  # currently 'Planet' | 'Sentinel' | 'Landsat'\n",
    "date_start = '2019-10-20'\n",
    "date_end = '2019-12-10'\n",
    "cloud_max = 100\n",
    "image_source = 'Web' #if 'Web', checks stats online directly, else path to folder to gets stats from images already downloaded\n",
    "\n",
    "grid_file = os.path.join(r'data','Grid_Punjab_UTM.gpkg')\n",
    "# TODO: make sample image folder\n",
    "img_dir = \"D:/CropBurn/UNQ31/Images_2019\" # need to set to folder containing imagery\n"
   ]
  },
  {
   "cell_type": "markdown",
   "id": "5386d1b3",
   "metadata": {},
   "source": [
    "# 1) Get image lists and summaries for each gridcell / aoi:"
   ]
  },
  {
   "cell_type": "markdown",
   "id": "42e54c96",
   "metadata": {},
   "source": [
    "### To get obs stats by querying Planet website:"
   ]
  },
  {
   "cell_type": "markdown",
   "id": "1cf45aff",
   "metadata": {},
   "source": [
    "####     if geometry objects are shapefiles or geopkg (then set pre_geom_path to aoi_shp_path or aoi_geopkg_path and aoi_geojson_path to desired location for geojson outputs)"
   ]
  },
  {
   "cell_type": "code",
   "execution_count": 4,
   "id": "17aff931",
   "metadata": {},
   "outputs": [
    {
     "name": "stdout",
     "output_type": "stream",
     "text": [
      "117\n",
      "saved list for PlanetResults_2019-10-20to2019-12-10_for_AOI_UNQ_1.csv\n",
      "{'UNQ': '1', 'max_gap_hrs': 119.70893566972222, 'avg_gap_hrs': 22.59145788201111, 'med_gap_hrs': 23.901382915972224, 'gaps_gt2days': 5, 'gaps_gt3days': 1, 'gaps_gt4days': 1, 'gaps_gt5days': 0}\n",
      "saved list for PlanetResults_2019-10-20to2019-12-10_for_AOI_UNQ_10.csv\n",
      "{'UNQ': '10', 'max_gap_hrs': 119.70922577583333, 'avg_gap_hrs': 23.485852639485817, 'med_gap_hrs': 23.809132291666668, 'gaps_gt2days': 7, 'gaps_gt3days': 1, 'gaps_gt4days': 1, 'gaps_gt5days': 0}\n",
      "saved list for PlanetResults_2019-10-20to2019-12-10_for_AOI_UNQ_11.csv\n",
      "{'UNQ': '11', 'max_gap_hrs': 142.28180223500001, 'avg_gap_hrs': 26.761750032790406, 'med_gap_hrs': 23.79286340638889, 'gaps_gt2days': 8, 'gaps_gt3days': 2, 'gaps_gt4days': 2, 'gaps_gt5days': 1}\n",
      "saved list for PlanetResults_2019-10-20to2019-12-10_for_AOI_UNQ_11621.csv\n",
      "{'UNQ': '11621', 'max_gap_hrs': 118.44715657833333, 'avg_gap_hrs': 22.642576864276727, 'med_gap_hrs': 23.810843509444446, 'gaps_gt2days': 7, 'gaps_gt3days': 3, 'gaps_gt4days': 1, 'gaps_gt5days': 0}\n",
      "saved list for PlanetResults_2019-10-20to2019-12-10_for_AOI_UNQ_11757.csv\n",
      "{'UNQ': '11757', 'max_gap_hrs': 119.44683524444444, 'avg_gap_hrs': 25.00117869682292, 'med_gap_hrs': 23.915209606666668, 'gaps_gt2days': 8, 'gaps_gt3days': 3, 'gaps_gt4days': 1, 'gaps_gt5days': 0}\n",
      "saved list for PlanetResults_2019-10-20to2019-12-10_for_AOI_UNQ_11892.csv\n",
      "{'UNQ': '11892', 'max_gap_hrs': 120.29714296638889, 'avg_gap_hrs': 30.00141452720833, 'med_gap_hrs': 23.915211063194445, 'gaps_gt2days': 9, 'gaps_gt3days': 5, 'gaps_gt4days': 2, 'gaps_gt5days': 1}\n",
      "saved list for PlanetResults_2019-10-20to2019-12-10_for_AOI_UNQ_12.csv\n",
      "{'UNQ': '12', 'max_gap_hrs': 71.48364650972222, 'avg_gap_hrs': 21.805870397088473, 'med_gap_hrs': 23.208142932638893, 'gaps_gt2days': 7, 'gaps_gt3days': 0, 'gaps_gt4days': 0, 'gaps_gt5days': 0}\n",
      "saved list for PlanetResults_2019-10-20to2019-12-10_for_AOI_UNQ_12028.csv\n",
      "{'UNQ': '12028', 'max_gap_hrs': 120.29712388805555, 'avg_gap_hrs': 26.667924182765425, 'med_gap_hrs': 23.81311367638889, 'gaps_gt2days': 9, 'gaps_gt3days': 3, 'gaps_gt4days': 2, 'gaps_gt5days': 1}\n",
      "saved list for PlanetResults_2019-10-20to2019-12-10_for_AOI_UNQ_12163.csv\n",
      "{'UNQ': '12163', 'max_gap_hrs': 120.29739447888889, 'avg_gap_hrs': 23.530521409128543, 'med_gap_hrs': 23.813672479999997, 'gaps_gt2days': 6, 'gaps_gt3days': 1, 'gaps_gt4days': 1, 'gaps_gt5days': 1}\n",
      "saved list for PlanetResults_2019-10-20to2019-12-10_for_AOI_UNQ_12299.csv\n",
      "{'UNQ': '12299', 'max_gap_hrs': 72.04133420972222, 'avg_gap_hrs': 24.490950928701814, 'med_gap_hrs': 23.81480770944444, 'gaps_gt2days': 8, 'gaps_gt3days': 1, 'gaps_gt4days': 0, 'gaps_gt5days': 0}\n",
      "saved list for PlanetResults_2019-10-20to2019-12-10_for_AOI_UNQ_12437.csv\n",
      "{'UNQ': '12437', 'max_gap_hrs': 94.23364179916666, 'avg_gap_hrs': 24.490951071366208, 'med_gap_hrs': 23.9640129325, 'gaps_gt2days': 6, 'gaps_gt3days': 3, 'gaps_gt4days': 0, 'gaps_gt5days': 0}\n",
      "saved list for PlanetResults_2019-10-20to2019-12-10_for_AOI_UNQ_12575.csv\n",
      "{'UNQ': '12575', 'max_gap_hrs': 94.2333812575, 'avg_gap_hrs': 25.00117929453703, 'med_gap_hrs': 23.908653757083336, 'gaps_gt2days': 7, 'gaps_gt3days': 3, 'gaps_gt4days': 0, 'gaps_gt5days': 0}\n",
      "saved list for PlanetResults_2019-10-20to2019-12-10_for_AOI_UNQ_12716.csv\n",
      "{'UNQ': '12716', 'max_gap_hrs': 73.72179343138889, 'avg_gap_hrs': 24.490951219971652, 'med_gap_hrs': 24.009276771388887, 'gaps_gt2days': 4, 'gaps_gt3days': 1, 'gaps_gt4days': 0, 'gaps_gt5days': 0}\n",
      "saved list for PlanetResults_2019-10-20to2019-12-10_for_AOI_UNQ_12859.csv\n",
      "{'UNQ': '12859', 'max_gap_hrs': 73.72147813027777, 'avg_gap_hrs': 23.530521900288672, 'med_gap_hrs': 23.986012113611114, 'gaps_gt2days': 4, 'gaps_gt3days': 1, 'gaps_gt4days': 0, 'gaps_gt5days': 0}\n",
      "saved list for PlanetResults_2019-10-20to2019-12-10_for_AOI_UNQ_12860.csv\n",
      "{'UNQ': '12860', 'max_gap_hrs': 72.51884346083334, 'avg_gap_hrs': 24.49167821862245, 'med_gap_hrs': 23.988073866388888, 'gaps_gt2days': 6, 'gaps_gt3days': 2, 'gaps_gt4days': 0, 'gaps_gt5days': 0}\n",
      "saved list for PlanetResults_2019-10-20to2019-12-10_for_AOI_UNQ_12861.csv\n",
      "{'UNQ': '12861', 'max_gap_hrs': 72.51834886166667, 'avg_gap_hrs': 24.49167821862245, 'med_gap_hrs': 23.97115259888889, 'gaps_gt2days': 7, 'gaps_gt3days': 3, 'gaps_gt4days': 0, 'gaps_gt5days': 0}\n",
      "saved list for PlanetResults_2019-10-20to2019-12-10_for_AOI_UNQ_12862.csv\n",
      "{'UNQ': '12862', 'max_gap_hrs': 118.6805861411111, 'avg_gap_hrs': 26.11579968134058, 'med_gap_hrs': 23.744920502777777, 'gaps_gt2days': 5, 'gaps_gt3days': 3, 'gaps_gt4days': 2, 'gaps_gt5days': 0}\n",
      "saved list for PlanetResults_2019-10-20to2019-12-10_for_AOI_UNQ_12863.csv\n",
      "{'UNQ': '12863', 'max_gap_hrs': 96.03872901138888, 'avg_gap_hrs': 26.206119104595956, 'med_gap_hrs': 23.9506727125, 'gaps_gt2days': 7, 'gaps_gt3days': 2, 'gaps_gt4days': 1, 'gaps_gt5days': 0}\n",
      "saved list for PlanetResults_2019-10-20to2019-12-10_for_AOI_UNQ_12864.csv\n",
      "{'UNQ': '12864', 'max_gap_hrs': 97.22544123666667, 'avg_gap_hrs': 27.46366763402116, 'med_gap_hrs': 23.897306981111115, 'gaps_gt2days': 9, 'gaps_gt3days': 3, 'gaps_gt4days': 1, 'gaps_gt5days': 0}\n",
      "saved list for PlanetResults_2019-10-20to2019-12-10_for_AOI_UNQ_12865.csv\n",
      "{'UNQ': '12865', 'max_gap_hrs': 94.72899798194445, 'avg_gap_hrs': 23.07710483559829, 'med_gap_hrs': 23.675296867222222, 'gaps_gt2days': 7, 'gaps_gt3days': 2, 'gaps_gt4days': 0, 'gaps_gt5days': 0}\n",
      "saved list for PlanetResults_2019-10-20to2019-12-10_for_AOI_UNQ_12866.csv\n",
      "{'UNQ': '12866', 'max_gap_hrs': 95.47251061583334, 'avg_gap_hrs': 19.354991152437275, 'med_gap_hrs': 23.637824102777778, 'gaps_gt2days': 3, 'gaps_gt3days': 2, 'gaps_gt4days': 0, 'gaps_gt5days': 0}\n",
      "saved list for PlanetResults_2019-10-20to2019-12-10_for_AOI_UNQ_12867.csv\n",
      "{'UNQ': '12867', 'max_gap_hrs': 143.99704560555554, 'avg_gap_hrs': 19.69705593225865, 'med_gap_hrs': 22.894830248055555, 'gaps_gt2days': 4, 'gaps_gt3days': 1, 'gaps_gt4days': 1, 'gaps_gt5days': 1}\n",
      "saved list for PlanetResults_2019-10-20to2019-12-10_for_AOI_UNQ_13.csv\n",
      "{'UNQ': '13', 'max_gap_hrs': 71.97404675638889, 'avg_gap_hrs': 23.088573758692814, 'med_gap_hrs': 22.81048534527778, 'gaps_gt2days': 11, 'gaps_gt3days': 0, 'gaps_gt4days': 0, 'gaps_gt5days': 0}\n",
      "saved list for PlanetResults_2019-10-20to2019-12-10_for_AOI_UNQ_14.csv\n",
      "{'UNQ': '14', 'max_gap_hrs': 95.48166186499999, 'avg_gap_hrs': 22.64324721175577, 'med_gap_hrs': 23.520966735833333, 'gaps_gt2days': 7, 'gaps_gt3days': 1, 'gaps_gt4days': 0, 'gaps_gt5days': 0}\n",
      "saved list for PlanetResults_2019-10-20to2019-12-10_for_AOI_UNQ_15.csv\n",
      "{'UNQ': '15', 'max_gap_hrs': 94.71474837638888, 'avg_gap_hrs': 28.6852453150271, 'med_gap_hrs': 24.042143224444445, 'gaps_gt2days': 5, 'gaps_gt3days': 1, 'gaps_gt4days': 0, 'gaps_gt5days': 0}\n",
      "saved list for PlanetResults_2019-10-20to2019-12-10_for_AOI_UNQ_16.csv\n",
      "{'UNQ': '16', 'max_gap_hrs': 96.01638777027779, 'avg_gap_hrs': 30.76645193740741, 'med_gap_hrs': 23.974962902222224, 'gaps_gt2days': 9, 'gaps_gt3days': 5, 'gaps_gt4days': 1, 'gaps_gt5days': 0}\n",
      "saved list for PlanetResults_2019-10-20to2019-12-10_for_AOI_UNQ_17.csv\n",
      "{'UNQ': '17', 'max_gap_hrs': 120.49352805333334, 'avg_gap_hrs': 32.47811424680931, 'med_gap_hrs': 22.747102750277776, 'gaps_gt2days': 10, 'gaps_gt3days': 4, 'gaps_gt4days': 3, 'gaps_gt5days': 1}\n",
      "saved list for PlanetResults_2019-10-20to2019-12-10_for_AOI_UNQ_18.csv\n",
      "{'UNQ': '18', 'max_gap_hrs': 167.527172195, 'avg_gap_hrs': 30.774042354565527, 'med_gap_hrs': 22.754805812777775, 'gaps_gt2days': 9, 'gaps_gt3days': 4, 'gaps_gt4days': 3, 'gaps_gt5days': 1}\n",
      "saved list for PlanetResults_2019-10-20to2019-12-10_for_AOI_UNQ_19.csv\n",
      "{'UNQ': '19', 'max_gap_hrs': 119.70924718416666, 'avg_gap_hrs': 26.735830460782832, 'med_gap_hrs': 23.82331052138889, 'gaps_gt2days': 8, 'gaps_gt3days': 3, 'gaps_gt4days': 1, 'gaps_gt5days': 0}\n",
      "saved list for PlanetResults_2019-10-20to2019-12-10_for_AOI_UNQ_2.csv\n",
      "{'UNQ': '2', 'max_gap_hrs': 96.03896916444444, 'avg_gap_hrs': 23.04567781598639, 'med_gap_hrs': 23.776018386666667, 'gaps_gt2days': 6, 'gaps_gt3days': 2, 'gaps_gt4days': 1, 'gaps_gt5days': 0}\n",
      "saved list for PlanetResults_2019-10-20to2019-12-10_for_AOI_UNQ_20.csv\n",
      "{'UNQ': '20', 'max_gap_hrs': 142.28212059416666, 'avg_gap_hrs': 25.053576502180853, 'med_gap_hrs': 23.81026722972222, 'gaps_gt2days': 8, 'gaps_gt3days': 1, 'gaps_gt4days': 1, 'gaps_gt5days': 1}\n"
     ]
    },
    {
     "name": "stdout",
     "output_type": "stream",
     "text": [
      "saved list for PlanetResults_2019-10-20to2019-12-10_for_AOI_UNQ_21.csv\n",
      "{'UNQ': '21', 'max_gap_hrs': 71.48451260444445, 'avg_gap_hrs': 24.030969835595233, 'med_gap_hrs': 23.54328817861111, 'gaps_gt2days': 7, 'gaps_gt3days': 0, 'gaps_gt4days': 0, 'gaps_gt5days': 0}\n",
      "saved list for PlanetResults_2019-10-20to2019-12-10_for_AOI_UNQ_22.csv\n",
      "{'UNQ': '22', 'max_gap_hrs': 95.50103928888889, 'avg_gap_hrs': 26.69597850497531, 'med_gap_hrs': 23.988362661388887, 'gaps_gt2days': 11, 'gaps_gt3days': 1, 'gaps_gt4days': 0, 'gaps_gt5days': 0}\n",
      "saved list for PlanetResults_2019-10-20to2019-12-10_for_AOI_UNQ_23.csv\n",
      "{'UNQ': '23', 'max_gap_hrs': 95.48252650333335, 'avg_gap_hrs': 24.00184814076667, 'med_gap_hrs': 23.73859732263889, 'gaps_gt2days': 7, 'gaps_gt3days': 2, 'gaps_gt4days': 0, 'gaps_gt5days': 0}\n",
      "saved list for PlanetResults_2019-10-20to2019-12-10_for_AOI_UNQ_24.csv\n",
      "{'UNQ': '24', 'max_gap_hrs': 96.29261469055555, 'avg_gap_hrs': 21.77953827406893, 'med_gap_hrs': 23.487045832499998, 'gaps_gt2days': 5, 'gaps_gt3days': 2, 'gaps_gt4days': 1, 'gaps_gt5days': 0}\n",
      "saved list for PlanetResults_2019-10-20to2019-12-10_for_AOI_UNQ_25.csv\n",
      "{'UNQ': '25', 'max_gap_hrs': 96.01667729388889, 'avg_gap_hrs': 33.330330011697534, 'med_gap_hrs': 24.064450111666666, 'gaps_gt2days': 9, 'gaps_gt3days': 6, 'gaps_gt4days': 1, 'gaps_gt5days': 0}\n",
      "saved list for PlanetResults_2019-10-20to2019-12-10_for_AOI_UNQ_26.csv\n",
      "{'UNQ': '26', 'max_gap_hrs': 120.49266894888889, 'avg_gap_hrs': 34.33400492910317, 'med_gap_hrs': 23.279409805833332, 'gaps_gt2days': 9, 'gaps_gt3days': 5, 'gaps_gt4days': 4, 'gaps_gt5days': 1}\n",
      "saved list for PlanetResults_2019-10-20to2019-12-10_for_AOI_UNQ_27.csv\n",
      "{'UNQ': '27', 'max_gap_hrs': 167.52802678444445, 'avg_gap_hrs': 27.911327368811378, 'med_gap_hrs': 22.766908441944445, 'gaps_gt2days': 8, 'gaps_gt3days': 3, 'gaps_gt4days': 2, 'gaps_gt5days': 1}\n",
      "saved list for PlanetResults_2019-10-20to2019-12-10_for_AOI_UNQ_28.csv\n",
      "{'UNQ': '28', 'max_gap_hrs': 95.66170857222222, 'avg_gap_hrs': 25.001184604166664, 'med_gap_hrs': 23.61363185486111, 'gaps_gt2days': 9, 'gaps_gt3days': 3, 'gaps_gt4days': 0, 'gaps_gt5days': 0}\n",
      "saved list for PlanetResults_2019-10-20to2019-12-10_for_AOI_UNQ_29.csv\n",
      "{'UNQ': '29', 'max_gap_hrs': 71.48480183666666, 'avg_gap_hrs': 23.550367117061114, 'med_gap_hrs': 23.515768855416667, 'gaps_gt2days': 8, 'gaps_gt3days': 0, 'gaps_gt4days': 0, 'gaps_gt5days': 0}\n",
      "saved list for PlanetResults_2019-10-20to2019-12-10_for_AOI_UNQ_3.csv\n",
      "{'UNQ': '3', 'max_gap_hrs': 95.98495186444444, 'avg_gap_hrs': 25.053535479438537, 'med_gap_hrs': 23.5068261025, 'gaps_gt2days': 7, 'gaps_gt3days': 2, 'gaps_gt4days': 0, 'gaps_gt5days': 0}\n",
      "saved list for PlanetResults_2019-10-20to2019-12-10_for_AOI_UNQ_30.csv\n",
      "{'UNQ': '30', 'max_gap_hrs': 72.2566908011111, 'avg_gap_hrs': 25.559996793664308, 'med_gap_hrs': 23.660274129444446, 'gaps_gt2days': 8, 'gaps_gt3days': 1, 'gaps_gt4days': 0, 'gaps_gt5days': 0}\n",
      "saved list for PlanetResults_2019-10-20to2019-12-10_for_AOI_UNQ_31.csv\n",
      "{'UNQ': '31', 'max_gap_hrs': 72.54357366972222, 'avg_gap_hrs': 22.643253127856397, 'med_gap_hrs': 23.515378169999998, 'gaps_gt2days': 5, 'gaps_gt3days': 2, 'gaps_gt4days': 0, 'gaps_gt5days': 0}\n",
      "saved list for PlanetResults_2019-10-20to2019-12-10_for_AOI_UNQ_32.csv\n",
      "{'UNQ': '32', 'max_gap_hrs': 96.29301300416667, 'avg_gap_hrs': 27.351048478307497, 'med_gap_hrs': 23.9749595525, 'gaps_gt2days': 6, 'gaps_gt3days': 3, 'gaps_gt4days': 1, 'gaps_gt5days': 0}\n",
      "saved list for PlanetResults_2019-10-20to2019-12-10_for_AOI_UNQ_33.csv\n",
      "{'UNQ': '33', 'max_gap_hrs': 96.01638995500001, 'avg_gap_hrs': 35.29092968804739, 'med_gap_hrs': 24.29753321777778, 'gaps_gt2days': 10, 'gaps_gt3days': 5, 'gaps_gt4days': 1, 'gaps_gt5days': 0}\n",
      "saved list for PlanetResults_2019-10-20to2019-12-10_for_AOI_UNQ_34.csv\n",
      "{'UNQ': '34', 'max_gap_hrs': 119.84229490166668, 'avg_gap_hrs': 29.30952274692412, 'med_gap_hrs': 23.49368286111111, 'gaps_gt2days': 9, 'gaps_gt3days': 4, 'gaps_gt4days': 3, 'gaps_gt5days': 0}\n",
      "saved list for PlanetResults_2019-10-20to2019-12-10_for_AOI_UNQ_35.csv\n",
      "{'UNQ': '35', 'max_gap_hrs': 119.50218195083333, 'avg_gap_hrs': 24.524288120515873, 'med_gap_hrs': 22.718620524722223, 'gaps_gt2days': 8, 'gaps_gt3days': 2, 'gaps_gt4days': 1, 'gaps_gt5days': 0}\n",
      "saved list for PlanetResults_2019-10-20to2019-12-10_for_AOI_UNQ_36.csv\n",
      "{'UNQ': '36', 'max_gap_hrs': 95.48302981444444, 'avg_gap_hrs': 23.530521126421565, 'med_gap_hrs': 22.906662395, 'gaps_gt2days': 11, 'gaps_gt3days': 3, 'gaps_gt4days': 0, 'gaps_gt5days': 0}\n",
      "saved list for PlanetResults_2019-10-20to2019-12-10_for_AOI_UNQ_37.csv\n",
      "{'UNQ': '37', 'max_gap_hrs': 73.18646001444444, 'avg_gap_hrs': 23.553813746672116, 'med_gap_hrs': 23.509412007222224, 'gaps_gt2days': 9, 'gaps_gt3days': 1, 'gaps_gt4days': 0, 'gaps_gt5days': 0}\n",
      "saved list for PlanetResults_2019-10-20to2019-12-10_for_AOI_UNQ_38.csv\n",
      "{'UNQ': '38', 'max_gap_hrs': 72.25679900833333, 'avg_gap_hrs': 22.666422745000002, 'med_gap_hrs': 22.727453112777777, 'gaps_gt2days': 11, 'gaps_gt3days': 1, 'gaps_gt4days': 0, 'gaps_gt5days': 0}\n",
      "saved list for PlanetResults_2019-10-20to2019-12-10_for_AOI_UNQ_39.csv\n",
      "{'UNQ': '39', 'max_gap_hrs': 96.29272479138888, 'avg_gap_hrs': 25.59433404540459, 'med_gap_hrs': 23.74897552958333, 'gaps_gt2days': 5, 'gaps_gt3days': 3, 'gaps_gt4days': 1, 'gaps_gt5days': 0}\n",
      "saved list for PlanetResults_2019-10-20to2019-12-10_for_AOI_UNQ_4.csv\n",
      "{'UNQ': '4', 'max_gap_hrs': 95.48619630361112, 'avg_gap_hrs': 26.733884029046713, 'med_gap_hrs': 23.9865883925, 'gaps_gt2days': 8, 'gaps_gt3days': 1, 'gaps_gt4days': 0, 'gaps_gt5days': 0}\n",
      "saved list for PlanetResults_2019-10-20to2019-12-10_for_AOI_UNQ_40.csv\n",
      "{'UNQ': '40', 'max_gap_hrs': 96.01667933277778, 'avg_gap_hrs': 29.402377329, 'med_gap_hrs': 23.95996580111111, 'gaps_gt2days': 8, 'gaps_gt3days': 4, 'gaps_gt4days': 1, 'gaps_gt5days': 0}\n",
      "saved list for PlanetResults_2019-10-20to2019-12-10_for_AOI_UNQ_41.csv\n",
      "{'UNQ': '41', 'max_gap_hrs': 96.0163905375, 'avg_gap_hrs': 35.290929529558824, 'med_gap_hrs': 24.29739115027778, 'gaps_gt2days': 11, 'gaps_gt3days': 4, 'gaps_gt4days': 1, 'gaps_gt5days': 0}\n",
      "saved list for PlanetResults_2019-10-20to2019-12-10_for_AOI_UNQ_42.csv\n",
      "{'UNQ': '42', 'max_gap_hrs': 167.5294653722222, 'avg_gap_hrs': 35.2909371839951, 'med_gap_hrs': 23.979908698888888, 'gaps_gt2days': 10, 'gaps_gt3days': 3, 'gaps_gt4days': 3, 'gaps_gt5days': 2}\n",
      "saved list for PlanetResults_2019-10-20to2019-12-10_for_AOI_UNQ_43.csv\n",
      "{'UNQ': '43', 'max_gap_hrs': 72.00978714388889, 'avg_gap_hrs': 22.673403361436055, 'med_gap_hrs': 22.76813835638889, 'gaps_gt2days': 8, 'gaps_gt3days': 1, 'gaps_gt4days': 0, 'gaps_gt5days': 0}\n",
      "saved list for PlanetResults_2019-10-20to2019-12-10_for_AOI_UNQ_44.csv\n",
      "{'UNQ': '44', 'max_gap_hrs': 95.4838943075, 'avg_gap_hrs': 27.274013206553036, 'med_gap_hrs': 23.789007527916667, 'gaps_gt2days': 11, 'gaps_gt3days': 5, 'gaps_gt4days': 0, 'gaps_gt5days': 0}\n",
      "saved list for PlanetResults_2019-10-20to2019-12-10_for_AOI_UNQ_45.csv\n",
      "{'UNQ': '45', 'max_gap_hrs': 72.00509261611111, 'avg_gap_hrs': 23.550394205283332, 'med_gap_hrs': 23.51993220166667, 'gaps_gt2days': 8, 'gaps_gt3days': 1, 'gaps_gt4days': 0, 'gaps_gt5days': 0}\n",
      "saved list for PlanetResults_2019-10-20to2019-12-10_for_AOI_UNQ_46.csv\n",
      "{'UNQ': '46', 'max_gap_hrs': 95.50335533083334, 'avg_gap_hrs': 20.36138166339454, 'med_gap_hrs': 22.710668754166665, 'gaps_gt2days': 8, 'gaps_gt3days': 2, 'gaps_gt4days': 0, 'gaps_gt5days': 0}\n",
      "saved list for PlanetResults_2019-10-20to2019-12-10_for_AOI_UNQ_47.csv\n",
      "{'UNQ': '47', 'max_gap_hrs': 94.71144259500001, 'avg_gap_hrs': 25.594351803442034, 'med_gap_hrs': 23.51331988375, 'gaps_gt2days': 6, 'gaps_gt3days': 4, 'gaps_gt4days': 0, 'gaps_gt5days': 0}\n",
      "saved list for PlanetResults_2019-10-20to2019-12-10_for_AOI_UNQ_48.csv\n",
      "{'UNQ': '48', 'max_gap_hrs': 96.01639213944443, 'avg_gap_hrs': 25.59938175953704, 'med_gap_hrs': 23.475541648333333, 'gaps_gt2days': 9, 'gaps_gt3days': 4, 'gaps_gt4days': 1, 'gaps_gt5days': 0}\n",
      "saved list for PlanetResults_2019-10-20to2019-12-10_for_AOI_UNQ_49.csv\n",
      "{'UNQ': '49', 'max_gap_hrs': 96.01668020666668, 'avg_gap_hrs': 33.843895371650326, 'med_gap_hrs': 23.976424849583335, 'gaps_gt2days': 10, 'gaps_gt3days': 3, 'gaps_gt4days': 1, 'gaps_gt5days': 0}\n",
      "saved list for PlanetResults_2019-10-20to2019-12-10_for_AOI_UNQ_5.csv\n",
      "{'UNQ': '5', 'max_gap_hrs': 95.48050741194444, 'avg_gap_hrs': 22.188098108448635, 'med_gap_hrs': 23.55743029583333, 'gaps_gt2days': 6, 'gaps_gt3days': 1, 'gaps_gt4days': 0, 'gaps_gt5days': 0}\n"
     ]
    },
    {
     "name": "stdout",
     "output_type": "stream",
     "text": [
      "saved list for PlanetResults_2019-10-20to2019-12-10_for_AOI_UNQ_50.csv\n",
      "{'UNQ': '50', 'max_gap_hrs': 167.5303198161111, 'avg_gap_hrs': 35.338667733946075, 'med_gap_hrs': 23.612825464861114, 'gaps_gt2days': 9, 'gaps_gt3days': 5, 'gaps_gt4days': 3, 'gaps_gt5days': 3}\n",
      "saved list for PlanetResults_2019-10-20to2019-12-10_for_AOI_UNQ_51.csv\n",
      "{'UNQ': '51', 'max_gap_hrs': 97.19014294472223, 'avg_gap_hrs': 21.84891497350505, 'med_gap_hrs': 22.76445506527778, 'gaps_gt2days': 7, 'gaps_gt3days': 2, 'gaps_gt4days': 1, 'gaps_gt5days': 0}\n",
      "saved list for PlanetResults_2019-10-20to2019-12-10_for_AOI_UNQ_52.csv\n",
      "{'UNQ': '52', 'max_gap_hrs': 95.46751179805555, 'avg_gap_hrs': 27.274019895858583, 'med_gap_hrs': 24.009275833611113, 'gaps_gt2days': 8, 'gaps_gt3days': 4, 'gaps_gt4days': 0, 'gaps_gt5days': 0}\n",
      "saved list for PlanetResults_2019-10-20to2019-12-10_for_AOI_UNQ_53.csv\n",
      "{'UNQ': '53', 'max_gap_hrs': 95.50451327916666, 'avg_gap_hrs': 26.167128987203704, 'med_gap_hrs': 23.66031723722222, 'gaps_gt2days': 10, 'gaps_gt3days': 3, 'gaps_gt4days': 0, 'gaps_gt5days': 0}\n",
      "saved list for PlanetResults_2019-10-20to2019-12-10_for_AOI_UNQ_54.csv\n",
      "{'UNQ': '54', 'max_gap_hrs': 95.5042206975, 'avg_gap_hrs': 25.027543218090283, 'med_gap_hrs': 23.500713976527777, 'gaps_gt2days': 10, 'gaps_gt3days': 2, 'gaps_gt4days': 0, 'gaps_gt5days': 0}\n",
      "saved list for PlanetResults_2019-10-20to2019-12-10_for_AOI_UNQ_55.csv\n",
      "{'UNQ': '55', 'max_gap_hrs': 95.72698258944445, 'avg_gap_hrs': 24.026441489366665, 'med_gap_hrs': 23.47846355375, 'gaps_gt2days': 8, 'gaps_gt3days': 4, 'gaps_gt4days': 0, 'gaps_gt5days': 0}\n",
      "saved list for PlanetResults_2019-10-20to2019-12-10_for_AOI_UNQ_56.csv\n",
      "{'UNQ': '56', 'max_gap_hrs': 96.01639272222222, 'avg_gap_hrs': 26.84499126228175, 'med_gap_hrs': 23.870799447638888, 'gaps_gt2days': 9, 'gaps_gt3days': 3, 'gaps_gt4days': 1, 'gaps_gt5days': 0}\n",
      "saved list for PlanetResults_2019-10-20to2019-12-10_for_AOI_UNQ_57.csv\n",
      "{'UNQ': '57', 'max_gap_hrs': 143.98606432555556, 'avg_gap_hrs': 34.909521499343434, 'med_gap_hrs': 23.974298014722223, 'gaps_gt2days': 10, 'gaps_gt3days': 3, 'gaps_gt4days': 1, 'gaps_gt5days': 1}\n",
      "saved list for PlanetResults_2019-10-20to2019-12-10_for_AOI_UNQ_58.csv\n",
      "{'UNQ': '58', 'max_gap_hrs': 96.21203237777777, 'avg_gap_hrs': 33.37543868736112, 'med_gap_hrs': 24.398792159444444, 'gaps_gt2days': 9, 'gaps_gt3days': 5, 'gaps_gt4days': 2, 'gaps_gt5days': 0}\n",
      "saved list for PlanetResults_2019-10-20to2019-12-10_for_AOI_UNQ_59.csv\n",
      "{'UNQ': '59', 'max_gap_hrs': 95.46849544333332, 'avg_gap_hrs': 18.776406387881945, 'med_gap_hrs': 22.394978260277778, 'gaps_gt2days': 7, 'gaps_gt3days': 2, 'gaps_gt4days': 0, 'gaps_gt5days': 0}\n",
      "saved list for PlanetResults_2019-10-20to2019-12-10_for_AOI_UNQ_6.csv\n",
      "{'UNQ': '6', 'max_gap_hrs': 94.71529931583333, 'avg_gap_hrs': 25.53517248468599, 'med_gap_hrs': 23.975546858888887, 'gaps_gt2days': 4, 'gaps_gt3days': 1, 'gaps_gt4days': 0, 'gaps_gt5days': 0}\n",
      "saved list for PlanetResults_2019-10-20to2019-12-10_for_AOI_UNQ_60.csv\n",
      "{'UNQ': '60', 'max_gap_hrs': 95.46837803833334, 'avg_gap_hrs': 26.667924263679016, 'med_gap_hrs': 23.988288805833335, 'gaps_gt2days': 9, 'gaps_gt3days': 4, 'gaps_gt4days': 0, 'gaps_gt5days': 0}\n",
      "saved list for PlanetResults_2019-10-20to2019-12-10_for_AOI_UNQ_61.csv\n",
      "{'UNQ': '61', 'max_gap_hrs': 119.71910290472222, 'avg_gap_hrs': 24.026458537461114, 'med_gap_hrs': 23.603301525694445, 'gaps_gt2days': 8, 'gaps_gt3days': 3, 'gaps_gt4days': 1, 'gaps_gt5days': 0}\n",
      "saved list for PlanetResults_2019-10-20to2019-12-10_for_AOI_UNQ_62.csv\n",
      "{'UNQ': '62', 'max_gap_hrs': 142.20380210833332, 'avg_gap_hrs': 24.026452615916664, 'med_gap_hrs': 22.761105945416666, 'gaps_gt2days': 8, 'gaps_gt3days': 3, 'gaps_gt4days': 1, 'gaps_gt5days': 1}\n",
      "saved list for PlanetResults_2019-10-20to2019-12-10_for_AOI_UNQ_63.csv\n",
      "{'UNQ': '63', 'max_gap_hrs': 96.52972015833333, 'avg_gap_hrs': 25.560061511631208, 'med_gap_hrs': 23.497979097777776, 'gaps_gt2days': 7, 'gaps_gt3days': 4, 'gaps_gt4days': 1, 'gaps_gt5days': 0}\n",
      "saved list for PlanetResults_2019-10-20to2019-12-10_for_AOI_UNQ_64.csv\n",
      "{'UNQ': '64', 'max_gap_hrs': 73.18739510055555, 'avg_gap_hrs': 29.56970827707265, 'med_gap_hrs': 23.974664931666666, 'gaps_gt2days': 9, 'gaps_gt3days': 3, 'gaps_gt4days': 0, 'gaps_gt5days': 0}\n",
      "saved list for PlanetResults_2019-10-20to2019-12-10_for_AOI_UNQ_65.csv\n",
      "{'UNQ': '65', 'max_gap_hrs': 143.98577596722222, 'avg_gap_hrs': 33.88277466209968, 'med_gap_hrs': 23.781856346111113, 'gaps_gt2days': 10, 'gaps_gt3days': 4, 'gaps_gt4days': 2, 'gaps_gt5days': 1}\n",
      "saved list for PlanetResults_2019-10-20to2019-12-10_for_AOI_UNQ_66.csv\n",
      "{'UNQ': '66', 'max_gap_hrs': 94.52006223777778, 'avg_gap_hrs': 26.700356730000003, 'med_gap_hrs': 23.985651037500002, 'gaps_gt2days': 9, 'gaps_gt3days': 3, 'gaps_gt4days': 0, 'gaps_gt5days': 0}\n",
      "saved list for PlanetResults_2019-10-20to2019-12-10_for_AOI_UNQ_67.csv\n",
      "{'UNQ': '67', 'max_gap_hrs': 95.46907332527778, 'avg_gap_hrs': 18.77641045202257, 'med_gap_hrs': 22.4538474675, 'gaps_gt2days': 7, 'gaps_gt3days': 2, 'gaps_gt4days': 0, 'gaps_gt5days': 0}\n",
      "saved list for PlanetResults_2019-10-20to2019-12-10_for_AOI_UNQ_68.csv\n",
      "{'UNQ': '68', 'max_gap_hrs': 95.46866814444445, 'avg_gap_hrs': 26.667924344586428, 'med_gap_hrs': 24.009566440277776, 'gaps_gt2days': 7, 'gaps_gt3days': 3, 'gaps_gt4days': 0, 'gaps_gt5days': 0}\n",
      "saved list for PlanetResults_2019-10-20to2019-12-10_for_AOI_UNQ_69.csv\n",
      "{'UNQ': '69', 'max_gap_hrs': 119.71978943083333, 'avg_gap_hrs': 25.001926596915506, 'med_gap_hrs': 23.815745258055557, 'gaps_gt2days': 9, 'gaps_gt3days': 2, 'gaps_gt4days': 1, 'gaps_gt5days': 0}\n",
      "saved list for PlanetResults_2019-10-20to2019-12-10_for_AOI_UNQ_7.csv\n",
      "{'UNQ': '7', 'max_gap_hrs': 120.5249294425, 'avg_gap_hrs': 32.42951071463214, 'med_gap_hrs': 24.13445847222222, 'gaps_gt2days': 7, 'gaps_gt3days': 4, 'gaps_gt4days': 1, 'gaps_gt5days': 1}\n",
      "saved list for PlanetResults_2019-10-20to2019-12-10_for_AOI_UNQ_70.csv\n",
      "{'UNQ': '70', 'max_gap_hrs': 142.20328102444444, 'avg_gap_hrs': 24.026474869033336, 'med_gap_hrs': 23.174538639583332, 'gaps_gt2days': 6, 'gaps_gt3days': 3, 'gaps_gt4days': 1, 'gaps_gt5days': 1}\n",
      "saved list for PlanetResults_2019-10-20to2019-12-10_for_AOI_UNQ_71.csv\n",
      "{'UNQ': '71', 'max_gap_hrs': 97.73930569916666, 'avg_gap_hrs': 27.30280562215278, 'med_gap_hrs': 23.746341380972222, 'gaps_gt2days': 8, 'gaps_gt3days': 4, 'gaps_gt4days': 1, 'gaps_gt5days': 0}\n",
      "saved list for PlanetResults_2019-10-20to2019-12-10_for_AOI_UNQ_72.csv\n",
      "{'UNQ': '72', 'max_gap_hrs': 95.82965342000001, 'avg_gap_hrs': 25.090776340629628, 'med_gap_hrs': 22.871510714166668, 'gaps_gt2days': 9, 'gaps_gt3days': 3, 'gaps_gt4days': 0, 'gaps_gt5days': 0}\n",
      "saved list for PlanetResults_2019-10-20to2019-12-10_for_AOI_UNQ_73.csv\n",
      "{'UNQ': '73', 'max_gap_hrs': 96.0478151775, 'avg_gap_hrs': 31.135507362867866, 'med_gap_hrs': 23.74763954583333, 'gaps_gt2days': 11, 'gaps_gt3days': 4, 'gaps_gt4days': 1, 'gaps_gt5days': 0}\n",
      "saved list for PlanetResults_2019-10-20to2019-12-10_for_AOI_UNQ_74.csv\n",
      "{'UNQ': '74', 'max_gap_hrs': 72.01199998055556, 'avg_gap_hrs': 27.307207787291667, 'med_gap_hrs': 24.23973673111111, 'gaps_gt2days': 8, 'gaps_gt3days': 2, 'gaps_gt4days': 0, 'gaps_gt5days': 0}\n",
      "saved list for PlanetResults_2019-10-20to2019-12-10_for_AOI_UNQ_75.csv\n",
      "{'UNQ': '75', 'max_gap_hrs': 95.469930245, 'avg_gap_hrs': 20.715812804152296, 'med_gap_hrs': 22.794723857222223, 'gaps_gt2days': 6, 'gaps_gt3days': 2, 'gaps_gt4days': 0, 'gaps_gt5days': 0}\n",
      "saved list for PlanetResults_2019-10-20to2019-12-10_for_AOI_UNQ_76.csv\n",
      "{'UNQ': '76', 'max_gap_hrs': 95.4698246361111, 'avg_gap_hrs': 27.90829300003876, 'med_gap_hrs': 24.033006658888887, 'gaps_gt2days': 7, 'gaps_gt3days': 3, 'gaps_gt4days': 0, 'gaps_gt5days': 0}\n",
      "saved list for PlanetResults_2019-10-20to2019-12-10_for_AOI_UNQ_77.csv\n",
      "{'UNQ': '77', 'max_gap_hrs': 119.72105223638889, 'avg_gap_hrs': 24.491677508276645, 'med_gap_hrs': 23.97841188638889, 'gaps_gt2days': 7, 'gaps_gt3days': 1, 'gaps_gt4days': 1, 'gaps_gt5days': 0}\n",
      "saved list for PlanetResults_2019-10-20to2019-12-10_for_AOI_UNQ_78.csv\n",
      "{'UNQ': '78', 'max_gap_hrs': 142.20358904361112, 'avg_gap_hrs': 28.6029595150992, 'med_gap_hrs': 23.761625456805554, 'gaps_gt2days': 5, 'gaps_gt3days': 4, 'gaps_gt4days': 3, 'gaps_gt5days': 1}\n",
      "saved list for PlanetResults_2019-10-20to2019-12-10_for_AOI_UNQ_79.csv\n",
      "{'UNQ': '79', 'max_gap_hrs': 97.73924817305556, 'avg_gap_hrs': 26.696101330771597, 'med_gap_hrs': 23.974950814166668, 'gaps_gt2days': 7, 'gaps_gt3days': 2, 'gaps_gt4days': 1, 'gaps_gt5days': 0}\n"
     ]
    },
    {
     "name": "stdout",
     "output_type": "stream",
     "text": [
      "saved list for PlanetResults_2019-10-20to2019-12-10_for_AOI_UNQ_8.csv\n",
      "{'UNQ': '8', 'max_gap_hrs': 119.8400459975, 'avg_gap_hrs': 29.309525410989163, 'med_gap_hrs': 22.78562567277778, 'gaps_gt2days': 8, 'gaps_gt3days': 4, 'gaps_gt4days': 2, 'gaps_gt5days': 0}\n",
      "saved list for PlanetResults_2019-10-20to2019-12-10_for_AOI_UNQ_80.csv\n",
      "{'UNQ': '80', 'max_gap_hrs': 95.83078165861112, 'avg_gap_hrs': 28.2271506170625, 'med_gap_hrs': 23.650008201666665, 'gaps_gt2days': 9, 'gaps_gt3days': 3, 'gaps_gt4days': 0, 'gaps_gt5days': 0}\n",
      "saved list for PlanetResults_2019-10-20to2019-12-10_for_AOI_UNQ_81.csv\n",
      "{'UNQ': '81', 'max_gap_hrs': 96.04810761388889, 'avg_gap_hrs': 37.161757022267025, 'med_gap_hrs': 23.98565220277778, 'gaps_gt2days': 11, 'gaps_gt3days': 4, 'gaps_gt4days': 1, 'gaps_gt5days': 0}\n",
      "saved list for PlanetResults_2019-10-20to2019-12-10_for_AOI_UNQ_82.csv\n",
      "{'UNQ': '82', 'max_gap_hrs': 72.01199546583334, 'avg_gap_hrs': 22.670150418511525, 'med_gap_hrs': 23.67383224138889, 'gaps_gt2days': 6, 'gaps_gt3days': 2, 'gaps_gt4days': 0, 'gaps_gt5days': 0}\n",
      "saved list for PlanetResults_2019-10-20to2019-12-10_for_AOI_UNQ_83.csv\n",
      "{'UNQ': '83', 'max_gap_hrs': 95.47078701888888, 'avg_gap_hrs': 21.079252679756333, 'med_gap_hrs': 23.485336900833335, 'gaps_gt2days': 6, 'gaps_gt3days': 1, 'gaps_gt4days': 0, 'gaps_gt5days': 0}\n",
      "saved list for PlanetResults_2019-10-20to2019-12-10_for_AOI_UNQ_84.csv\n",
      "{'UNQ': '84', 'max_gap_hrs': 95.47069073083334, 'avg_gap_hrs': 22.194173157269393, 'med_gap_hrs': 23.978412760277777, 'gaps_gt2days': 5, 'gaps_gt3days': 3, 'gaps_gt4days': 0, 'gaps_gt5days': 0}\n",
      "saved list for PlanetResults_2019-10-20to2019-12-10_for_AOI_UNQ_85.csv\n",
      "{'UNQ': '85', 'max_gap_hrs': 119.72162837083333, 'avg_gap_hrs': 25.001920971741896, 'med_gap_hrs': 23.963254876666664, 'gaps_gt2days': 8, 'gaps_gt3days': 1, 'gaps_gt4days': 1, 'gaps_gt5days': 0}\n",
      "saved list for PlanetResults_2019-10-20to2019-12-10_for_AOI_UNQ_86.csv\n",
      "{'UNQ': '86', 'max_gap_hrs': 142.2036365211111, 'avg_gap_hrs': 25.560108855585106, 'med_gap_hrs': 23.54888118527778, 'gaps_gt2days': 4, 'gaps_gt3days': 3, 'gaps_gt4days': 2, 'gaps_gt5days': 1}\n",
      "saved list for PlanetResults_2019-10-20to2019-12-10_for_AOI_UNQ_87.csv\n",
      "{'UNQ': '87', 'max_gap_hrs': 97.73893097888889, 'avg_gap_hrs': 27.376787560129202, 'med_gap_hrs': 23.974660563055554, 'gaps_gt2days': 7, 'gaps_gt3days': 2, 'gaps_gt4days': 1, 'gaps_gt5days': 0}\n",
      "saved list for PlanetResults_2019-10-20to2019-12-10_for_AOI_UNQ_88.csv\n",
      "{'UNQ': '88', 'max_gap_hrs': 95.8319098975, 'avg_gap_hrs': 32.903132546253964, 'med_gap_hrs': 24.01545788, 'gaps_gt2days': 9, 'gaps_gt3days': 4, 'gaps_gt4days': 0, 'gaps_gt5days': 0}\n",
      "saved list for PlanetResults_2019-10-20to2019-12-10_for_AOI_UNQ_89.csv\n",
      "{'UNQ': '89', 'max_gap_hrs': 95.97165139055555, 'avg_gap_hrs': 30.76945842735043, 'med_gap_hrs': 23.976143631666666, 'gaps_gt2days': 9, 'gaps_gt3days': 4, 'gaps_gt4days': 0, 'gaps_gt5days': 0}\n",
      "saved list for PlanetResults_2019-10-20to2019-12-10_for_AOI_UNQ_9.csv\n",
      "{'UNQ': '9', 'max_gap_hrs': 144.05332837611112, 'avg_gap_hrs': 29.27288336373984, 'med_gap_hrs': 23.473551819444445, 'gaps_gt2days': 9, 'gaps_gt3days': 2, 'gaps_gt4days': 2, 'gaps_gt5days': 1}\n",
      "saved list for PlanetResults_2019-10-20to2019-12-10_for_AOI_UNQ_90.csv\n",
      "{'UNQ': '90', 'max_gap_hrs': 95.47136490083334, 'avg_gap_hrs': 19.354981913978488, 'med_gap_hrs': 23.485344778472225, 'gaps_gt2days': 4, 'gaps_gt3days': 2, 'gaps_gt4days': 0, 'gaps_gt5days': 0}\n",
      "saved list for PlanetResults_2019-10-20to2019-12-10_for_AOI_UNQ_91.csv\n",
      "{'UNQ': '91', 'max_gap_hrs': 48.517497881666664, 'avg_gap_hrs': 19.697024467818757, 'med_gap_hrs': 23.498871996944445, 'gaps_gt2days': 5, 'gaps_gt3days': 0, 'gaps_gt4days': 0, 'gaps_gt5days': 0}\n",
      "saved list for PlanetResults_2019-10-20to2019-12-10_for_AOI_UNQ_92.csv\n",
      "{'UNQ': '92', 'max_gap_hrs': 72.51999456416667, 'avg_gap_hrs': 25.001921335833334, 'med_gap_hrs': 23.997471267361114, 'gaps_gt2days': 5, 'gaps_gt3days': 2, 'gaps_gt4days': 0, 'gaps_gt5days': 0}\n",
      "saved list for PlanetResults_2019-10-20to2019-12-10_for_AOI_UNQ_93.csv\n",
      "{'UNQ': '93', 'max_gap_hrs': 72.51920694638889, 'avg_gap_hrs': 25.533883222529553, 'med_gap_hrs': 23.978413051388888, 'gaps_gt2days': 8, 'gaps_gt3days': 2, 'gaps_gt4days': 0, 'gaps_gt5days': 0}\n",
      "saved list for PlanetResults_2019-10-20to2019-12-10_for_AOI_UNQ_94.csv\n",
      "{'UNQ': '94', 'max_gap_hrs': 96.29327587611111, 'avg_gap_hrs': 27.937806338145993, 'med_gap_hrs': 24.021866169722223, 'gaps_gt2days': 5, 'gaps_gt3days': 2, 'gaps_gt4days': 1, 'gaps_gt5days': 0}\n",
      "saved list for PlanetResults_2019-10-20to2019-12-10_for_AOI_UNQ_95.csv\n",
      "{'UNQ': '95', 'max_gap_hrs': 96.03872697222222, 'avg_gap_hrs': 23.544059342194448, 'med_gap_hrs': 23.49241396472222, 'gaps_gt2days': 7, 'gaps_gt3days': 2, 'gaps_gt4days': 1, 'gaps_gt5days': 0}\n",
      "saved list for PlanetResults_2019-10-20to2019-12-10_for_AOI_UNQ_96.csv\n",
      "{'UNQ': '96', 'max_gap_hrs': 94.22602008055556, 'avg_gap_hrs': 28.800350765944447, 'med_gap_hrs': 23.99650019125, 'gaps_gt2days': 9, 'gaps_gt3days': 3, 'gaps_gt4days': 0, 'gaps_gt5days': 0}\n",
      "saved list for PlanetResults_2019-10-20to2019-12-10_for_AOI_UNQ_97.csv\n",
      "{'UNQ': '97', 'max_gap_hrs': 94.72983713416667, 'avg_gap_hrs': 28.57164004800264, 'med_gap_hrs': 23.98104260611111, 'gaps_gt2days': 8, 'gaps_gt3days': 3, 'gaps_gt4days': 0, 'gaps_gt5days': 0}\n",
      "saved list for PlanetResults_2019-10-20to2019-12-10_for_AOI_UNQ_98.csv\n",
      "{'UNQ': '98', 'max_gap_hrs': 95.47222167472222, 'avg_gap_hrs': 21.428730036001983, 'med_gap_hrs': 23.638159792777778, 'gaps_gt2days': 4, 'gaps_gt3days': 2, 'gaps_gt4days': 0, 'gaps_gt5days': 0}\n",
      "saved list for PlanetResults_2019-10-20to2019-12-10_for_AOI_UNQ_99.csv\n",
      "{'UNQ': '99', 'max_gap_hrs': 143.99704414944443, 'avg_gap_hrs': 21.079286352227093, 'med_gap_hrs': 23.497382975555556, 'gaps_gt2days': 3, 'gaps_gt3days': 1, 'gaps_gt4days': 1, 'gaps_gt5days': 1}\n"
     ]
    }
   ],
   "source": [
    "all_obs = get_obs_stats_for_multipoly(date_start, date_end, 'Web', cloud_max, 'Planet', 'PSScene', out_dir, aoi_geojson_path, pre_geom_path=aoi_shp_path)"
   ]
  },
  {
   "cell_type": "markdown",
   "id": "481bb359",
   "metadata": {},
   "source": [
    "####     if geometry objects are geojsons (then set pre_geom_path to None and geom_path to aoi_geojson_path)"
   ]
  },
  {
   "cell_type": "code",
   "execution_count": 6,
   "id": "3e3a2f73",
   "metadata": {},
   "outputs": [],
   "source": [
    "#all_obs = get_obs_stats_for_multipoly(date_start, date_end, 'Web', cloud_max, 'Planet', 'PSScene', out_dir, aoi_geojson_path, pre_geom_path=None)"
   ]
  },
  {
   "cell_type": "markdown",
   "id": "4dd21e53",
   "metadata": {},
   "source": [
    "### To get obs stats for Sentinel / Lansat by querying stac servers:"
   ]
  },
  {
   "cell_type": "markdown",
   "id": "71969466",
   "metadata": {},
   "source": [
    "### To get obs stats by querying images already downloaded to a folder:"
   ]
  },
  {
   "cell_type": "markdown",
   "id": "6b1bdd1b",
   "metadata": {},
   "source": [
    "can do based on bounds using following, (but not best option because doesn't check for actual data)"
   ]
  },
  {
   "cell_type": "code",
   "execution_count": null,
   "id": "acc4317c",
   "metadata": {},
   "outputs": [],
   "source": [
    "#img_dir = \"\"\n",
    "#all_obs = get_obs_stats_for_multipoly(date_start, date_end, img_dir, cloud_max, 'Planet', 'PSScene', out_dir, aoi_geojson_path, pre_geom_path=None)"
   ]
  },
  {
   "cell_type": "markdown",
   "id": "270770bb",
   "metadata": {},
   "source": [
    "# 2) Summarize obs stats fro csv back to grid: "
   ]
  },
  {
   "cell_type": "code",
   "execution_count": 16,
   "id": "644346ea",
   "metadata": {},
   "outputs": [
    {
     "data": {
      "image/png": "[encoded data removed]",
      "text/plain": [
       "<Figure size 640x480 with 1 Axes>"
      ]
     },
     "metadata": {},
     "output_type": "display_data"
    }
   ],
   "source": [
    "obs = [f for f in os.listdir(out_dir) if f.endswith('ALLCELLS.csv')]\n",
    "df_obs = pd.read_csv(os.path.join(out_dir,obs[0]))\n",
    "df_obs['max_gap'] = df_obs['max_gap_hrs']/24\n",
    "df_geom = gpd.read_file(os.path.join(r'data','gridded_aoi.gpkg'))\n",
    "df_combo = pd.merge(df_obs, df_geom, on=\"UNQ\")\n",
    "df_combo.sort_values('UNQ').head(n=5)\n",
    "\n",
    "gdf = gpd.GeoDataFrame(df_combo, crs=\"EPSG:7773\", geometry='geometry')\n",
    "fig, ax = plt.subplots()\n",
    "gdf.plot(column='max_gap', cmap='afmhot_r', legend=True,edgecolor='gray', scheme=\"User_Defined\", classification_kwds=dict(bins=[2,3,4,5,6,40]),legend_kwds={'bbox_to_anchor': (1.6, .4)},ax=ax)\n",
    "ax.axis('off')\n",
    "# optional: label selected cells\n",
    "selected_cells = [12,13,21,22]\n",
    "gdf_selected = gdf.loc[gdf['UNQ'].isin(selected_cells)]\n",
    "gdf_selected.apply(lambda x: ax.annotate(str(x.UNQ),\n",
    "    x.geometry.centroid.coords[0],\n",
    "    fontsize=10,\n",
    "    ha='center',\n",
    "    va='center',\n",
    "    color='black'), axis=1);"
   ]
  },
  {
   "cell_type": "markdown",
   "id": "439a6e1f",
   "metadata": {},
   "source": [
    "## Actual Fig 6\n",
    "#### Note that this was originally created with shapefile rather than grid and labels do not quite match UNQ values for grid. Lines 7 and 8 use 'label' instead of 'UNQ' to correct this. If AOI is gridded using make_grid, 'UNQ' is used to label cells as above. "
   ]
  },
  {
   "cell_type": "code",
   "execution_count": 110,
   "id": "75aeff9d",
   "metadata": {},
   "outputs": [
    {
     "data": {
      "image/png": "[encoded data removed]",
      "text/plain": [
       "<Figure size 640x480 with 1 Axes>"
      ]
     },
     "metadata": {},
     "output_type": "display_data"
    }
   ],
   "source": [
    "df_obs = pd.read_csv(os.path.join(r'data','Walker2023RS','Img_Lists','ObsStats_2019-10-01to2019-12-20.csv'))\n",
    "df_obs['max_gap'] = df_obs['max_gap_hrs']/24\n",
    "df_geom = gpd.read_file(os.path.join(r'data','gridded_aoi.gpkg'))\n",
    "df_combo = pd.merge(df_obs, df_geom, on=\"UNQ\")\n",
    "\n",
    "gdf = gpd.GeoDataFrame(df_combo, crs=\"EPSG:7773\", geometry='geometry')\n",
    "fig, ax = plt.subplots()\n",
    "gdf.plot(column='max_gap', cmap='afmhot_r', legend=True,edgecolor='gray', scheme=\"User_Defined\", classification_kwds=dict(bins=[2,3,4,5,6,40]),legend_kwds={'bbox_to_anchor': (1.6, .4)},ax=ax)\n",
    "ax.axis('off')\n",
    "# optional: label selected cells\n",
    "selected_cells = [30,31,32,38,39,46,47]\n",
    "gdf_selected = gdf.loc[gdf['label'].isin(selected_cells)]\n",
    "gdf_selected.apply(lambda x: ax.annotate(str(x.label),\n",
    "    x.geometry.centroid.coords[0],\n",
    "    fontsize=10,\n",
    "    ha='center',\n",
    "    va='center',\n",
    "    color='black'), axis=1);"
   ]
  }
 ],
 "metadata": {
  "kernelspec": {
   "display_name": "Python [conda env:venv.cropburn]",
   "language": "python",
   "name": "conda-env-venv.cropburn-py"
  },
  "language_info": {
   "codemirror_mode": {
    "name": "ipython",
    "version": 3
   },
   "file_extension": ".py",
   "mimetype": "text/x-python",
   "name": "python",
   "nbconvert_exporter": "python",
   "pygments_lexer": "ipython3",
   "version": "3.8.17"
  }
 },
 "nbformat": 4,
 "nbformat_minor": 5
}
